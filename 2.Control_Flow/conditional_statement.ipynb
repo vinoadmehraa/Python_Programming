{
 "cells": [
  {
   "cell_type": "code",
   "execution_count": 1,
   "metadata": {},
   "outputs": [
    {
     "name": "stdout",
     "output_type": "stream",
     "text": [
      "Age is greater than 10\n"
     ]
    }
   ],
   "source": [
    "## if statement\n",
    "\n",
    "age=30\n",
    "\n",
    "if age>10:\n",
    "    print(\"Age is greater than 10\")"
   ]
  },
  {
   "cell_type": "code",
   "execution_count": 2,
   "metadata": {},
   "outputs": [
    {
     "name": "stdout",
     "output_type": "stream",
     "text": [
      "Age is not greater than 50\n"
     ]
    }
   ],
   "source": [
    "## else statement\n",
    "\n",
    "if age>50:\n",
    "    print(\"Age is greater than 50\")\n",
    "else:\n",
    "    print(\"Age is not greater than 50\")\n",
    "    "
   ]
  },
  {
   "cell_type": "code",
   "execution_count": 10,
   "metadata": {},
   "outputs": [
    {
     "name": "stdout",
     "output_type": "stream",
     "text": [
      "You are an adult\n"
     ]
    }
   ],
   "source": [
    "## elif statement\n",
    "\n",
    "age=18\n",
    "\n",
    "if age>=60:\n",
    "    print(\"Retirement age has reached\")\n",
    "elif 18 <= age < 60:\n",
    "    print(\"You are an adult\")\n",
    "else:\n",
    "    print(\"You are minor age\")\n"
   ]
  },
  {
   "cell_type": "code",
   "execution_count": 26,
   "metadata": {},
   "outputs": [
    {
     "name": "stdout",
     "output_type": "stream",
     "text": [
      "Entered number - {0} is positive. 56767657\n",
      "And, entered number is odd.\n"
     ]
    }
   ],
   "source": [
    "## Nested conditional statements\n",
    "\n",
    "## check if the number is even, odd or negative.\n",
    "\n",
    "var1=int(input(\"Enter the number\"))\n",
    "\n",
    "if var1>0:\n",
    "    print(\"Entered number - {0} is positive.\",var1)\n",
    "    if var1%2==0:\n",
    "        print(\"And, entered number is even.\")\n",
    "    else:\n",
    "        print(\"And, entered number is odd.\")\n",
    "else:\n",
    "    print(\"Entered number is either zero or negative.\")"
   ]
  },
  {
   "cell_type": "code",
   "execution_count": 33,
   "metadata": {},
   "outputs": [
    {
     "name": "stdout",
     "output_type": "stream",
     "text": [
      "2000 is a leap year.\n"
     ]
    }
   ],
   "source": [
    "## Practical of Nested If elif else \n",
    "\n",
    "## Determine if a year is leap year using nested conditional statement.\n",
    "\n",
    "var1=int(input(\"Enter the year\"))\n",
    "\n",
    "if var1%4==0:\n",
    "    if var1%100 ==0:\n",
    "        if var1%400==0:\n",
    "            print(var1, \"is a leap year.\")\n",
    "        else:\n",
    "            print(var1, \"is not a leap year\")\n",
    "    else:\n",
    "        print(var1, \"is a leap year.\")\n",
    "else:\n",
    "    print(var1, \"is not a leap year\")\n"
   ]
  },
  {
   "cell_type": "code",
   "execution_count": 44,
   "metadata": {},
   "outputs": [
    {
     "name": "stdout",
     "output_type": "stream",
     "text": [
      "Enter the valid first number\n"
     ]
    }
   ],
   "source": [
    "## A Simple Calculator program.\n",
    "## Given need to be taken from the user input for two number and the operation.\n",
    "\n",
    "var1=(input(\"Please enter the first number.\"))\n",
    "\n",
    "var2 = (input(\"Please input the second number.\"))\n",
    "\n",
    "var3 = input(\"Please enter the opeation +,-,*,/.\")\n",
    "\n",
    "if (type(var1) or type(var2)) in (int,float):\n",
    "    if var3=='+':\n",
    "        print(\"Total sum is:\",var1+var2)\n",
    "    elif var3=='-':\n",
    "        print(\"The difference between number is:\", var1-var2)\n",
    "    elif var3=='*':\n",
    "        print(\"Multiplecation is:\",var1*var2)\n",
    "    elif var3=='/':\n",
    "        if var2==0:\n",
    "            print(\"Divisible by Zero is not allowed. Please enter new number.\")\n",
    "        else:\n",
    "            print(\"Divisible calculation is:\", var1/var2)\n",
    "    else:\n",
    "        print()\n",
    "else:\n",
    "    print(\"Enter the valid number\")\n",
    "\n",
    "# if var3=='+':\n",
    "#     print(\"Total sum is:\",var1+var2)\n",
    "# elif var3=='-':\n",
    "#     print(\"The difference between number is:\", var1-var2)\n",
    "# elif var3=='*':\n",
    "#     print(\"Multiplecation is:\",var1*var2)\n",
    "# elif var3=='/':\n",
    "#     if var2==0:\n",
    "#         print(\"Divisible by Zero is not allowed. Please enter new number.\")\n",
    "#     else:\n",
    "#         print(\"Divisible calculation is:\", var1/var2)\n",
    "# else:\n",
    "#     print()\n"
   ]
  },
  {
   "cell_type": "code",
   "execution_count": null,
   "metadata": {},
   "outputs": [],
   "source": []
  },
  {
   "cell_type": "code",
   "execution_count": null,
   "metadata": {},
   "outputs": [],
   "source": []
  }
 ],
 "metadata": {
  "kernelspec": {
   "display_name": "Python 3",
   "language": "python",
   "name": "python3"
  },
  "language_info": {
   "codemirror_mode": {
    "name": "ipython",
    "version": 3
   },
   "file_extension": ".py",
   "mimetype": "text/x-python",
   "name": "python",
   "nbconvert_exporter": "python",
   "pygments_lexer": "ipython3",
   "version": "3.12.0"
  }
 },
 "nbformat": 4,
 "nbformat_minor": 2
}
