{
 "cells": [
  {
   "cell_type": "code",
   "execution_count": 7,
   "metadata": {},
   "outputs": [
    {
     "name": "stdout",
     "output_type": "stream",
     "text": [
      "range(6, 10, 2)\n"
     ]
    }
   ],
   "source": [
    "## range function\n",
    "\n",
    "range(5)\n",
    "\n",
    "range(6,10,2)"
   ]
  },
  {
   "cell_type": "code",
   "execution_count": 3,
   "metadata": {},
   "outputs": [
    {
     "name": "stdout",
     "output_type": "stream",
     "text": [
      "6\n",
      "8\n"
     ]
    }
   ],
   "source": [
    "## for loop\n",
    "for n in range(6,10,2):\n",
    "    print(n)"
   ]
  },
  {
   "cell_type": "code",
   "execution_count": 8,
   "metadata": {},
   "outputs": [],
   "source": [
    "for i in range(10,5,1):\n",
    "    print(i)"
   ]
  },
  {
   "cell_type": "code",
   "execution_count": 12,
   "metadata": {},
   "outputs": [
    {
     "name": "stdout",
     "output_type": "stream",
     "text": [
      "V\n",
      "i\n",
      "n\n",
      "o\n",
      "a\n",
      "d\n",
      " \n",
      "M\n",
      "e\n",
      "h\n",
      "r\n",
      "a\n",
      "a\n"
     ]
    }
   ],
   "source": [
    "## Strings\n",
    "\n",
    "my_str='Vinoad Mehraa'\n",
    "\n",
    "for i in my_str:\n",
    "    print(i)"
   ]
  },
  {
   "cell_type": "code",
   "execution_count": 1,
   "metadata": {},
   "outputs": [
    {
     "name": "stdout",
     "output_type": "stream",
     "text": [
      "0\n",
      "1\n",
      "2\n",
      "3\n",
      "4\n"
     ]
    }
   ],
   "source": [
    "## While loop\n",
    "## loop will run as long as condition is met or true.\n",
    "\n",
    "count=0\n",
    "\n",
    "while count<5:\n",
    "    print(count)\n",
    "    count+=1\n"
   ]
  },
  {
   "cell_type": "code",
   "execution_count": 4,
   "metadata": {},
   "outputs": [
    {
     "name": "stdout",
     "output_type": "stream",
     "text": [
      "0 0\n",
      "0 1\n",
      "0 2\n",
      "0 3\n",
      "0 4\n",
      "1 0\n",
      "1 1\n",
      "1 2\n",
      "1 3\n",
      "1 4\n",
      "2 0\n",
      "2 1\n",
      "2 2\n",
      "2 3\n",
      "2 4\n"
     ]
    }
   ],
   "source": [
    "## Loop control statements\n",
    "\n",
    "##break\n",
    "\n",
    "## break statement loop prematurely.\n",
    "\n",
    "for y in range(3):\n",
    "    for i in range(10):\n",
    "        if i==5:\n",
    "            break\n",
    "        else:\n",
    "            print(y,i)\n",
    "\n"
   ]
  },
  {
   "cell_type": "code",
   "execution_count": 12,
   "metadata": {},
   "outputs": [
    {
     "name": "stdout",
     "output_type": "stream",
     "text": [
      "0\n",
      "1\n",
      "2\n",
      "3\n",
      "4\n"
     ]
    }
   ],
   "source": [
    "## continue statement\n",
    "\n",
    "for i in range(6):\n",
    "    if i==5:\n",
    "        continue\n",
    "    else:\n",
    "        print(i)"
   ]
  },
  {
   "cell_type": "code",
   "execution_count": 15,
   "metadata": {},
   "outputs": [
    {
     "name": "stdout",
     "output_type": "stream",
     "text": [
      "0\n",
      "1\n",
      "2\n",
      "3\n",
      "The number is Four\n",
      "5\n"
     ]
    }
   ],
   "source": [
    "## pass statement\n",
    "\n",
    "## pass statement is a null operator and does nothing.\n",
    "\n",
    "for i in range(6):\n",
    "    if i==4:\n",
    "        print(\"The number is Four\")\n",
    "        pass\n",
    "    else:\n",
    "        print(i)"
   ]
  },
  {
   "cell_type": "code",
   "execution_count": 24,
   "metadata": {},
   "outputs": [
    {
     "name": "stdout",
     "output_type": "stream",
     "text": [
      "i:0 and y:0\n",
      "i:0 and y:1\n",
      "i:1 and y:0\n",
      "i:1 and y:1\n",
      "i:2 and y:0\n",
      "i:2 and y:1\n",
      "i:3 and y:0\n",
      "i:3 and y:1\n"
     ]
    }
   ],
   "source": [
    "## Nested loop\n",
    "\n",
    "for i in range(4):\n",
    "    for y in range(2):\n",
    "        print(f\"i:{i} and y:{y}\")"
   ]
  },
  {
   "cell_type": "code",
   "execution_count": 60,
   "metadata": {},
   "outputs": [
    {
     "name": "stdout",
     "output_type": "stream",
     "text": [
      "The prime numbers from 1 to 100 are: [2, 3, 5, 7, 11, 13, 17, 19, 23, 29, 31, 37, 41, 43, 47, 53, 59, 61, 67, 71, 73, 79, 83, 89, 97]\n"
     ]
    }
   ],
   "source": [
    "## Prime number between 1 to 100\n",
    "\n",
    "def is_prime(num):\n",
    "    if num <= 1:\n",
    "        return False\n",
    "    for y in range(2, num):\n",
    "        if num % y == 0:\n",
    "            return False\n",
    "    return True\n",
    "\n",
    "def find_prime_numbers_between_1_and_100():\n",
    "    prime_num = []\n",
    "    for i in range(1, 101):  # Include 100 in the range\n",
    "        if is_prime(i):\n",
    "            prime_num.append(i)\n",
    "    return prime_num\n",
    "\n",
    "prime_numbers = find_prime_numbers_between_1_and_100()\n",
    "print(\"The prime numbers from 1 to 100 are:\", prime_numbers)\n"
   ]
  },
  {
   "cell_type": "code",
   "execution_count": null,
   "metadata": {},
   "outputs": [],
   "source": []
  }
 ],
 "metadata": {
  "kernelspec": {
   "display_name": "Python 3",
   "language": "python",
   "name": "python3"
  },
  "language_info": {
   "codemirror_mode": {
    "name": "ipython",
    "version": 3
   },
   "file_extension": ".py",
   "mimetype": "text/x-python",
   "name": "python",
   "nbconvert_exporter": "python",
   "pygments_lexer": "ipython3",
   "version": "3.12.0"
  }
 },
 "nbformat": 4,
 "nbformat_minor": 2
}
