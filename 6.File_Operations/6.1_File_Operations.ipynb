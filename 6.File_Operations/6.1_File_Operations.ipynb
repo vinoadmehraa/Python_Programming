{
 "cells": [
  {
   "cell_type": "code",
   "execution_count": 3,
   "metadata": {},
   "outputs": [
    {
     "name": "stdout",
     "output_type": "stream",
     "text": [
      "Name,Age\n",
      "Vinoad,39\n",
      "Rishibha,33\n",
      "Samrat,1\n",
      "\n"
     ]
    }
   ],
   "source": [
    "## Reading a while file.\n",
    "\n",
    "with open('/Users/vinoadmehraa/Python_Programming/5.Creating_Modules_Packages/example.csv',mode='r') as file:\n",
    "    content=file.read()\n",
    "\n",
    "    print(content)"
   ]
  },
  {
   "cell_type": "code",
   "execution_count": 6,
   "metadata": {},
   "outputs": [
    {
     "name": "stdout",
     "output_type": "stream",
     "text": [
      "Name,Age\n",
      "Vinoad,39\n",
      "Rishibha,33\n",
      "Samrat,1\n"
     ]
    }
   ],
   "source": [
    "## Reading line by line.\n",
    "\n",
    "with open('/Users/vinoadmehraa/Python_Programming/5.Creating_Modules_Packages/example.csv',mode='r') as file:\n",
    "    for line in file:\n",
    "        print(line.strip()) ## strip function remove the new line character."
   ]
  },
  {
   "cell_type": "code",
   "execution_count": 9,
   "metadata": {},
   "outputs": [],
   "source": [
    "## Writing a file. \n",
    "with open('my_example.txt',mode='w') as file:\n",
    "    file.write('Hello, world!\\n')\n",
    "    file.write('This is new line.')\n",
    "\n"
   ]
  },
  {
   "cell_type": "code",
   "execution_count": 11,
   "metadata": {},
   "outputs": [],
   "source": [
    "#write with out overwrite.\n",
    "\n",
    "with open('my_example.txt','a') as file:\n",
    "    file.write(\"\\nThis is my append line.\\n\")"
   ]
  },
  {
   "cell_type": "code",
   "execution_count": 13,
   "metadata": {},
   "outputs": [],
   "source": [
    "## write many lines.\n",
    "lines =['\\nThis is my first new line.','\\nMy second new line','\\nThird new line.']\n",
    "with open('my_example.txt','a') as file:\n",
    "    file.writelines(lines)"
   ]
  },
  {
   "cell_type": "code",
   "execution_count": 53,
   "metadata": {},
   "outputs": [
    {
     "name": "stdout",
     "output_type": "stream",
     "text": [
      "Line count:1 Word count:2 Char count:7\n"
     ]
    }
   ],
   "source": [
    "## Count the lines, words and character in a file.\n",
    "\n",
    "def count_lines_words_character(path):\n",
    "    with open(path,'r') as file:\n",
    "        total_lines = file.readlines()\n",
    "        #print(len(total_lines))\n",
    "        line_count=len(total_lines)\n",
    "        word_count=0\n",
    "        char_count=0\n",
    "        for line in total_lines:\n",
    "            words =line.split()\n",
    "            word_count+=len(words)\n",
    "            char_count+=len(line)\n",
    "\n",
    "           \n",
    "    return line_count,word_count,char_count\n",
    "\n",
    "file_path='/Users/vinoadmehraa/Python_Programming/6.File_Operations/my_sample.txt'\n",
    "line_count,word_count, char_count= count_lines_words_character(file_path)\n",
    "\n",
    "print(f\"Line count:{line_count} Word count:{word_count} Char count:{char_count}\")"
   ]
  },
  {
   "cell_type": "code",
   "execution_count": 56,
   "metadata": {},
   "outputs": [
    {
     "name": "stdout",
     "output_type": "stream",
     "text": [
      "\n"
     ]
    }
   ],
   "source": [
    "## Writing and then reading a file.\n",
    "\n",
    "with open('my_example2.txt','w+') as file:\n",
    "    file.write(\"Hello\\n\")\n",
    "    file.write(\"How are you\\n\")\n",
    "\n",
    "    ## Now, the curse is at the 2nd line.\n",
    "    ## In Order to move the file, we need to move the curser to first line starting.\n",
    "    file.seek(0)\n",
    "\n",
    "    ## Read content of file.\n",
    "    content=file.read()\n",
    "\n",
    "    print(content)\n"
   ]
  },
  {
   "cell_type": "code",
   "execution_count": null,
   "metadata": {},
   "outputs": [],
   "source": []
  },
  {
   "cell_type": "code",
   "execution_count": null,
   "metadata": {},
   "outputs": [],
   "source": []
  },
  {
   "cell_type": "code",
   "execution_count": null,
   "metadata": {},
   "outputs": [],
   "source": []
  },
  {
   "cell_type": "code",
   "execution_count": null,
   "metadata": {},
   "outputs": [],
   "source": []
  }
 ],
 "metadata": {
  "kernelspec": {
   "display_name": "Python 3",
   "language": "python",
   "name": "python3"
  },
  "language_info": {
   "codemirror_mode": {
    "name": "ipython",
    "version": 3
   },
   "file_extension": ".py",
   "mimetype": "text/x-python",
   "name": "python",
   "nbconvert_exporter": "python",
   "pygments_lexer": "ipython3",
   "version": "3.12.0"
  }
 },
 "nbformat": 4,
 "nbformat_minor": 2
}
