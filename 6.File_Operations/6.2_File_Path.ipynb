{
 "cells": [
  {
   "cell_type": "code",
   "execution_count": 1,
   "metadata": {},
   "outputs": [
    {
     "name": "stdout",
     "output_type": "stream",
     "text": [
      "/Users/vinoadmehraa/Python_Programming/6.File_Operations\n"
     ]
    }
   ],
   "source": [
    "# create new directory\n",
    "\n",
    "import os\n",
    "curr_wrk_dir= os.getcwd()\n",
    "print(curr_wrk_dir)"
   ]
  },
  {
   "cell_type": "code",
   "execution_count": 2,
   "metadata": {},
   "outputs": [
    {
     "name": "stdout",
     "output_type": "stream",
     "text": [
      "None\n"
     ]
    }
   ],
   "source": [
    "new_dir=os.makedirs(\"packages\")\n",
    "print(new_dir)"
   ]
  },
  {
   "cell_type": "code",
   "execution_count": 3,
   "metadata": {},
   "outputs": [
    {
     "name": "stdout",
     "output_type": "stream",
     "text": [
      "['6.1_File_Operations.ipynb', 'my_sample.txt', 'my_example2.txt', 'my_example.txt', 'packages', 'example.bin', '6.2_File_Path.ipynb']\n"
     ]
    }
   ],
   "source": [
    "## Listing all files and directories\n",
    "\n",
    "items=os.listdir('.')\n",
    "print(items)"
   ]
  },
  {
   "cell_type": "code",
   "execution_count": 4,
   "metadata": {},
   "outputs": [
    {
     "name": "stdout",
     "output_type": "stream",
     "text": [
      "folder/myfile.txt\n"
     ]
    }
   ],
   "source": [
    "## joining path\n",
    "\n",
    "dir_name='folder'\n",
    "file_name='myfile.txt'\n",
    "full_path=os.path.join(dir_name,file_name)\n",
    "\n",
    "print(full_path)"
   ]
  },
  {
   "cell_type": "code",
   "execution_count": 5,
   "metadata": {},
   "outputs": [
    {
     "name": "stdout",
     "output_type": "stream",
     "text": [
      "/Users/vinoadmehraa/Python_Programming/6.File_Operations/folder/myfile.txt\n"
     ]
    }
   ],
   "source": [
    "dir_name='folder'\n",
    "file_name='myfile.txt'\n",
    "full_path=os.path.join(os.getcwd(), dir_name,file_name)\n",
    "\n",
    "print(full_path)"
   ]
  },
  {
   "cell_type": "code",
   "execution_count": 6,
   "metadata": {},
   "outputs": [
    {
     "name": "stdout",
     "output_type": "stream",
     "text": [
      "/Users/vinoadmehraa/Python_Programming/6.File_Operations/example.txt\n"
     ]
    }
   ],
   "source": [
    "## Getting the absolute path\n",
    "relative_path='example.txt'\n",
    "abs_path=os.path.abspath(relative_path)\n",
    "\n",
    "print(abs_path)\n"
   ]
  },
  {
   "cell_type": "code",
   "execution_count": null,
   "metadata": {},
   "outputs": [],
   "source": []
  }
 ],
 "metadata": {
  "kernelspec": {
   "display_name": "Python 3",
   "language": "python",
   "name": "python3"
  },
  "language_info": {
   "codemirror_mode": {
    "name": "ipython",
    "version": 3
   },
   "file_extension": ".py",
   "mimetype": "text/x-python",
   "name": "python",
   "nbconvert_exporter": "python",
   "pygments_lexer": "ipython3",
   "version": "3.12.0"
  }
 },
 "nbformat": 4,
 "nbformat_minor": 2
}
