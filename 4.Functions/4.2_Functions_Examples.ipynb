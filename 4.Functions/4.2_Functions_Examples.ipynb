{
 "cells": [
  {
   "cell_type": "code",
   "execution_count": 11,
   "metadata": {},
   "outputs": [
    {
     "name": "stdout",
     "output_type": "stream",
     "text": [
      "V\n"
     ]
    },
    {
     "data": {
      "text/plain": [
       "False"
      ]
     },
     "execution_count": 11,
     "metadata": {},
     "output_type": "execute_result"
    }
   ],
   "source": [
    "## Password strength checker.\n",
    "\n",
    "def Is_strong_password(param):\n",
    "    ''' This function check if password is strong or not'''\n",
    "    if len(param) <8:\n",
    "        return False\n",
    "    for i in param:\n",
    "        #print(i)\n",
    "        if not any(i.isdigit() for i in param):\n",
    "            print(i)\n",
    "            return False\n",
    "\n",
    "\n",
    "Is_strong_password(\"VinoadMehraa\")\n",
    "        \n",
    "        "
   ]
  },
  {
   "cell_type": "code",
   "execution_count": 14,
   "metadata": {},
   "outputs": [
    {
     "name": "stdout",
     "output_type": "stream",
     "text": [
      "1200\n"
     ]
    }
   ],
   "source": [
    "## Calculate total cost of items in shopping cart.\n",
    "\n",
    "def calculate_total_cost(cart):\n",
    "    total_cost=0\n",
    "    for item in cart:\n",
    "        total_cost = item['price']*item['quantity']\n",
    "    return total_cost\n",
    "\n",
    "## Example of cart data\n",
    "cart=[\n",
    "    {'name':'Apple','price':5,'quantity':500},\n",
    "    {'name':'Banana','price':8,'quantity':100},\n",
    "    {'name':'Orange','price':6,'quantity':200}\n",
    "\n",
    "]\n",
    "\n",
    "total_cost = calculate_total_cost(cart)\n",
    "\n",
    "print(total_cost)"
   ]
  },
  {
   "cell_type": "code",
   "execution_count": 16,
   "metadata": {},
   "outputs": [
    {
     "name": "stdout",
     "output_type": "stream",
     "text": [
      "True\n",
      "False\n"
     ]
    }
   ],
   "source": [
    "## If string is panandrome.\n",
    "\n",
    "def is_palindrome(str):\n",
    "    str=str.lower().replace(\" \",\"\")\n",
    "    return str == str[::-1]\n",
    "\n",
    "print(is_palindrome(\"Vinoadaoniv\"))\n",
    "\n",
    "print(is_palindrome(\"Mehraa\"))"
   ]
  },
  {
   "cell_type": "code",
   "execution_count": null,
   "metadata": {},
   "outputs": [],
   "source": []
  }
 ],
 "metadata": {
  "kernelspec": {
   "display_name": "Python 3",
   "language": "python",
   "name": "python3"
  },
  "language_info": {
   "codemirror_mode": {
    "name": "ipython",
    "version": 3
   },
   "file_extension": ".py",
   "mimetype": "text/x-python",
   "name": "python",
   "nbconvert_exporter": "python",
   "pygments_lexer": "ipython3",
   "version": "3.12.0"
  }
 },
 "nbformat": 4,
 "nbformat_minor": 2
}
