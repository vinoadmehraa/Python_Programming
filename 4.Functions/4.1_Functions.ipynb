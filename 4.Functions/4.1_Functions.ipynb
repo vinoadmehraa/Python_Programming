{
 "cells": [
  {
   "cell_type": "code",
   "execution_count": null,
   "metadata": {},
   "outputs": [],
   "source": [
    "## Function Syntax\n",
    "\n",
    "def my_function_name(parameters):\n",
    "    return expression"
   ]
  },
  {
   "cell_type": "code",
   "execution_count": 8,
   "metadata": {},
   "outputs": [
    {
     "name": "stdout",
     "output_type": "stream",
     "text": [
      "Number is odd\n"
     ]
    }
   ],
   "source": [
    "## Why do we need function?\n",
    "\n",
    "## In order to reduce the same code in multiple location\n",
    "## We create a function so that repeation is avoided in the code.\n",
    "\n",
    "def even_or_odd(param):\n",
    "    ''' This function find a number is even or odd'''\n",
    "    if param%2 == 0:\n",
    "        print(\"Number is even\")\n",
    "    else:\n",
    "        print(\"Number is odd\")\n",
    "my_input = int(input())\n",
    "check = even_or_odd(my_input)"
   ]
  },
  {
   "cell_type": "code",
   "execution_count": 9,
   "metadata": {},
   "outputs": [
    {
     "name": "stdout",
     "output_type": "stream",
     "text": [
      "The addition of two numbers is: 11\n"
     ]
    }
   ],
   "source": [
    "## function with multiple parameters\n",
    "\n",
    "## Add two numbers.\n",
    "\n",
    "def Adding_Two_Numbers(param1,param2):\n",
    "    ''' Adding two numbers'''\n",
    "    return (param1+param2)\n",
    "\n",
    "my_addition=Adding_Two_Numbers(5,6)\n",
    "print(\"The addition of two numbers is:\", my_addition)"
   ]
  },
  {
   "cell_type": "code",
   "execution_count": 11,
   "metadata": {},
   "outputs": [
    {
     "name": "stdout",
     "output_type": "stream",
     "text": [
      "Hello Guest, Welcome to our program.\n"
     ]
    }
   ],
   "source": [
    "## Default parameters\n",
    "\n",
    "def greet(param1=\"Guest\"):\n",
    "    print(f\"Hello {param1}, Welcome to our program.\")\n",
    "\n",
    "greet()"
   ]
  },
  {
   "cell_type": "code",
   "execution_count": 12,
   "metadata": {},
   "outputs": [
    {
     "name": "stdout",
     "output_type": "stream",
     "text": [
      "1\n",
      "2\n",
      "3\n",
      "4\n",
      "5\n",
      "Vinoad\n",
      "True\n"
     ]
    }
   ],
   "source": [
    "## Variable length arguments.\n",
    "## Positional (*args - single start) and Keyword arguments (**args, double arguments).\n",
    "\n",
    "def print_numbers(*args):\n",
    "    for i in args:\n",
    "        print(i)\n",
    "\n",
    "print_numbers(1,2,3,4,5,\"Vinoad\",True)"
   ]
  },
  {
   "cell_type": "code",
   "execution_count": 13,
   "metadata": {},
   "outputs": [
    {
     "name": "stdout",
     "output_type": "stream",
     "text": [
      "name:Vinoad\n",
      "age:38\n",
      "grade:True\n"
     ]
    }
   ],
   "source": [
    "## Keyword argument.\n",
    "\n",
    "def print_numbers(**args):\n",
    "    for i,y in args.items():\n",
    "        print(f\"{i}:{y}\")\n",
    "\n",
    "print_numbers(name=\"Vinoad\",age=38,grade=True)"
   ]
  },
  {
   "cell_type": "code",
   "execution_count": 31,
   "metadata": {},
   "outputs": [
    {
     "name": "stdout",
     "output_type": "stream",
     "text": [
      "Positional arguments - 1\n",
      "Positional arguments - 2\n",
      "Positional arguments - 3\n",
      "Positional arguments - Vinoad\n",
      "Keyword arguments - name:Vinoad\n",
      "Keyword arguments - age:38\n",
      "Keyword arguments - grade:True\n"
     ]
    }
   ],
   "source": [
    "## Combine positional and keyword arguments.\n",
    "\n",
    "def print_numbers(*args,**kwargs):\n",
    "    for i in args:\n",
    "        print(\"Positional arguments -\",i)\n",
    "    for i,y in kwargs.items():\n",
    "        print(f\"Keyword arguments - {i}:{y}\")\n",
    "    \n",
    "print_numbers(1,2,3,\"Vinoad\",name=\"Vinoad\",age=38,grade=True)"
   ]
  },
  {
   "cell_type": "code",
   "execution_count": 29,
   "metadata": {},
   "outputs": [
    {
     "name": "stdout",
     "output_type": "stream",
     "text": [
      "Keyword arguments - name:Vinoad\n",
      "Keyword arguments - age:38\n",
      "Keyword arguments - grade:True\n"
     ]
    }
   ],
   "source": [
    "print_numbers(name=\"Vinoad\",age=38,grade=True)"
   ]
  },
  {
   "cell_type": "code",
   "execution_count": 22,
   "metadata": {},
   "outputs": [
    {
     "data": {
      "text/plain": [
       "(135, 24, 6, 1.6666666666666667)"
      ]
     },
     "execution_count": 22,
     "metadata": {},
     "output_type": "execute_result"
    }
   ],
   "source": [
    "## Return statement.\n",
    "\n",
    "## Function return something.\n",
    "\n",
    "## can return mutiple values.\n",
    "\n",
    "def multiple(a,b):\n",
    "    return a*b, a+b, a-b, a/b\n",
    "\n",
    "multiple(15,9)"
   ]
  },
  {
   "cell_type": "code",
   "execution_count": null,
   "metadata": {},
   "outputs": [],
   "source": []
  },
  {
   "cell_type": "code",
   "execution_count": null,
   "metadata": {},
   "outputs": [],
   "source": []
  },
  {
   "cell_type": "code",
   "execution_count": null,
   "metadata": {},
   "outputs": [],
   "source": []
  },
  {
   "cell_type": "code",
   "execution_count": null,
   "metadata": {},
   "outputs": [],
   "source": []
  },
  {
   "cell_type": "code",
   "execution_count": null,
   "metadata": {},
   "outputs": [],
   "source": []
  },
  {
   "cell_type": "code",
   "execution_count": null,
   "metadata": {},
   "outputs": [],
   "source": []
  },
  {
   "cell_type": "code",
   "execution_count": null,
   "metadata": {},
   "outputs": [],
   "source": []
  },
  {
   "cell_type": "code",
   "execution_count": null,
   "metadata": {},
   "outputs": [],
   "source": []
  },
  {
   "cell_type": "code",
   "execution_count": null,
   "metadata": {},
   "outputs": [],
   "source": []
  }
 ],
 "metadata": {
  "kernelspec": {
   "display_name": "Python 3",
   "language": "python",
   "name": "python3"
  },
  "language_info": {
   "codemirror_mode": {
    "name": "ipython",
    "version": 3
   },
   "file_extension": ".py",
   "mimetype": "text/x-python",
   "name": "python",
   "nbconvert_exporter": "python",
   "pygments_lexer": "ipython3",
   "version": "3.12.0"
  }
 },
 "nbformat": 4,
 "nbformat_minor": 2
}
