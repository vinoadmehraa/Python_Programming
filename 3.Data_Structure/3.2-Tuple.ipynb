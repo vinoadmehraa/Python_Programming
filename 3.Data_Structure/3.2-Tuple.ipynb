{
 "cells": [
  {
   "cell_type": "code",
   "execution_count": 3,
   "metadata": {},
   "outputs": [
    {
     "name": "stdout",
     "output_type": "stream",
     "text": [
      "()\n",
      "<class 'tuple'>\n"
     ]
    }
   ],
   "source": [
    "# Tuple are similar to list but tuple are immutable.\n",
    "\n",
    "## Creating a tuple\n",
    "empty_tuple=()\n",
    "\n",
    "print(empty_tuple)\n",
    "\n",
    "print(type(empty_tuple))"
   ]
  },
  {
   "cell_type": "code",
   "execution_count": 7,
   "metadata": {},
   "outputs": [
    {
     "name": "stdout",
     "output_type": "stream",
     "text": [
      "<class 'list'>\n",
      "<class 'list'>\n",
      "<class 'tuple'>\n"
     ]
    }
   ],
   "source": [
    "## a list can be create by two way\n",
    "\n",
    "list1 = []\n",
    "list2 = list()\n",
    "\n",
    "print(type(list1))\n",
    "print(type(list2))\n",
    "\n",
    "## a tuple can only be created by one way\n",
    "\n",
    "list3 = tuple()\n",
    "print(type(list3))"
   ]
  },
  {
   "cell_type": "code",
   "execution_count": 9,
   "metadata": {},
   "outputs": [
    {
     "name": "stdout",
     "output_type": "stream",
     "text": [
      "(1, 2, 3, 4, 5) <class 'tuple'>\n"
     ]
    }
   ],
   "source": [
    "## tuple can be converested into list and list can be converted into tuple.\n",
    "\n",
    "## a list of [1,2,3,4,5] is changed to tuple.\n",
    "\n",
    "check1 = tuple([1,2,3,4,5])\n",
    "print(check1, type(check1))"
   ]
  },
  {
   "cell_type": "code",
   "execution_count": 10,
   "metadata": {},
   "outputs": [
    {
     "name": "stdout",
     "output_type": "stream",
     "text": [
      "[1, 2, 3, 4, 5] <class 'list'>\n"
     ]
    }
   ],
   "source": [
    "## a tuple(1,2,3,4,5) is changed to list.\n",
    "check2 = list((1,2,3,4,5))\n",
    "print(check2,type(check2))"
   ]
  },
  {
   "cell_type": "code",
   "execution_count": 11,
   "metadata": {},
   "outputs": [
    {
     "name": "stdout",
     "output_type": "stream",
     "text": [
      "(1, 'Vinoad', True)\n"
     ]
    }
   ],
   "source": [
    "## Tuple can also have same mixed values as list\n",
    "\n",
    "tuple1=(1,\"Vinoad\",True)\n",
    "\n",
    "print(tuple1)"
   ]
  },
  {
   "cell_type": "code",
   "execution_count": 15,
   "metadata": {},
   "outputs": [
    {
     "name": "stdout",
     "output_type": "stream",
     "text": [
      "Vinoad\n"
     ]
    }
   ],
   "source": [
    "## accessing tuple\n",
    "\n",
    "print(tuple1[1])"
   ]
  },
  {
   "cell_type": "code",
   "execution_count": 16,
   "metadata": {},
   "outputs": [
    {
     "name": "stdout",
     "output_type": "stream",
     "text": [
      "(1, 2, 3, 4, 5, 'This', 'Is', 'My', 'Name') <class 'tuple'>\n"
     ]
    }
   ],
   "source": [
    "## tuple operation\n",
    "tuple1=(1,2,3,4,5)\n",
    "tuple2=(\"This\",\"Is\",\"My\",\"Name\")\n",
    "\n",
    "tuple3 = tuple1+ tuple2\n",
    "\n",
    "print(tuple3, type(tuple3))"
   ]
  },
  {
   "cell_type": "code",
   "execution_count": 23,
   "metadata": {},
   "outputs": [
    {
     "name": "stdout",
     "output_type": "stream",
     "text": [
      "('This', 'Is', 'My', 'Name', 'This', 'Is', 'My', 'Name', 'This', 'Is', 'My', 'Name') <class 'tuple'>\n"
     ]
    }
   ],
   "source": [
    "tuple4=tuple2*3\n",
    "print(tuple4, type(tuple4))"
   ]
  },
  {
   "cell_type": "code",
   "execution_count": 26,
   "metadata": {},
   "outputs": [
    {
     "name": "stdout",
     "output_type": "stream",
     "text": [
      "[1, 'Vinoad', 9, 1985, 'True', 'Sonipat']\n"
     ]
    }
   ],
   "source": [
    "## Immutable nature of tuple. (Once assgined, value can not be changed.)\n",
    "\n",
    "my_list=[1,\"Vinoad\",9,1985,'True','Sonipat']\n",
    "print(my_list)"
   ]
  },
  {
   "cell_type": "code",
   "execution_count": 27,
   "metadata": {},
   "outputs": [
    {
     "name": "stdout",
     "output_type": "stream",
     "text": [
      "[1, 'Mehraa', 9, 1985, 'True', 'Sonipat']\n"
     ]
    }
   ],
   "source": [
    "my_list[1]=\"Mehraa\"\n",
    "\n",
    "print(my_list)"
   ]
  },
  {
   "cell_type": "code",
   "execution_count": 36,
   "metadata": {},
   "outputs": [
    {
     "name": "stdout",
     "output_type": "stream",
     "text": [
      "(1, 2, 'Vinoad')\n"
     ]
    }
   ],
   "source": [
    "my_tuple=(1,2,\"Vinoad\")\n",
    "\n",
    "print(my_tuple)"
   ]
  },
  {
   "cell_type": "code",
   "execution_count": 29,
   "metadata": {},
   "outputs": [
    {
     "ename": "TypeError",
     "evalue": "'tuple' object does not support item assignment",
     "output_type": "error",
     "traceback": [
      "\u001b[0;31m---------------------------------------------------------------------------\u001b[0m",
      "\u001b[0;31mTypeError\u001b[0m                                 Traceback (most recent call last)",
      "Cell \u001b[0;32mIn[29], line 1\u001b[0m\n\u001b[0;32m----> 1\u001b[0m \u001b[43mmy_tuple\u001b[49m\u001b[43m[\u001b[49m\u001b[38;5;241;43m1\u001b[39;49m\u001b[43m]\u001b[49m\u001b[38;5;241m=\u001b[39m\u001b[38;5;124m\"\u001b[39m\u001b[38;5;124mMehraa\u001b[39m\u001b[38;5;124m\"\u001b[39m\n",
      "\u001b[0;31mTypeError\u001b[0m: 'tuple' object does not support item assignment"
     ]
    }
   ],
   "source": [
    "my_tuple[1]=\"Mehraa\""
   ]
  },
  {
   "cell_type": "code",
   "execution_count": 30,
   "metadata": {},
   "outputs": [
    {
     "name": "stdout",
     "output_type": "stream",
     "text": [
      "(1, 2, 'Vinoad')\n"
     ]
    }
   ],
   "source": [
    "## Tuple methods\n",
    "\n",
    "print(my_tuple)"
   ]
  },
  {
   "cell_type": "code",
   "execution_count": 37,
   "metadata": {},
   "outputs": [
    {
     "name": "stdout",
     "output_type": "stream",
     "text": [
      "(1, 2, 'Vinoad', 1, 2, 'Vinoad', 1, 2, 'Vinoad')\n"
     ]
    }
   ],
   "source": [
    "my_tuple = my_tuple*3\n",
    "\n",
    "print(my_tuple)\n"
   ]
  },
  {
   "cell_type": "code",
   "execution_count": 40,
   "metadata": {},
   "outputs": [
    {
     "name": "stdout",
     "output_type": "stream",
     "text": [
      "3\n",
      "2\n"
     ]
    }
   ],
   "source": [
    "print(my_tuple.count(\"Vinoad\"))\n",
    "print(my_tuple.index('Vinoad'))"
   ]
  },
  {
   "cell_type": "code",
   "execution_count": 41,
   "metadata": {},
   "outputs": [
    {
     "name": "stdout",
     "output_type": "stream",
     "text": [
      "(1, 'Hello', True, -5.7)\n"
     ]
    }
   ],
   "source": [
    "## Packing a tuple\n",
    "tuple_pack=1,'Hello',True,-5.7\n",
    "\n",
    "print(tuple_pack)"
   ]
  },
  {
   "cell_type": "code",
   "execution_count": 44,
   "metadata": {},
   "outputs": [
    {
     "name": "stdout",
     "output_type": "stream",
     "text": [
      "True\n",
      "-5.7\n"
     ]
    }
   ],
   "source": [
    "##unpacking a tuple\n",
    "a,b,c,d=tuple_pack\n",
    "\n",
    "print(c)\n",
    "\n",
    "print(d)"
   ]
  },
  {
   "cell_type": "code",
   "execution_count": 46,
   "metadata": {},
   "outputs": [
    {
     "name": "stdout",
     "output_type": "stream",
     "text": [
      "1 <class 'int'>\n",
      "[2, 3, 4, 5] <class 'list'>\n",
      "Vinoad <class 'str'>\n"
     ]
    }
   ],
   "source": [
    "## Unpacking with *\n",
    "\n",
    "tuple5=(1,2,3,4,5,\"Vinoad\")\n",
    "a,*middle,b=tuple5\n",
    "\n",
    "print(a, type(a))\n",
    "\n",
    "print(middle, type(middle))\n",
    "\n",
    "print(b,type(b))"
   ]
  },
  {
   "cell_type": "code",
   "execution_count": 49,
   "metadata": {},
   "outputs": [
    {
     "name": "stdout",
     "output_type": "stream",
     "text": [
      "[[1, 2, 3], ['Vinoad', 'Mehraa'], [True, False]] <class 'list'>\n",
      "[1, 2, 3]\n"
     ]
    }
   ],
   "source": [
    "## Nested tuples\n",
    "\n",
    "nested_list1=[[1,2,3],[\"Vinoad\",\"Mehraa\"],[True,False]]\n",
    "\n",
    "print(nested_list1, type(nested_list1))\n",
    "\n",
    "print(nested_list1[0])"
   ]
  },
  {
   "cell_type": "code",
   "execution_count": 50,
   "metadata": {},
   "outputs": [
    {
     "name": "stdout",
     "output_type": "stream",
     "text": [
      "3\n"
     ]
    }
   ],
   "source": [
    "print(nested_list1[0][2])"
   ]
  },
  {
   "cell_type": "code",
   "execution_count": 52,
   "metadata": {},
   "outputs": [
    {
     "name": "stdout",
     "output_type": "stream",
     "text": [
      "((1, 2, 3), ('Vinoad', 'Mehraa'), (True, False)) <class 'tuple'>\n"
     ]
    }
   ],
   "source": [
    "nested_tuple1=((1,2,3),(\"Vinoad\",\"Mehraa\"),(True,False))\n",
    "\n",
    "print(nested_tuple1, type(nested_tuple1))"
   ]
  },
  {
   "cell_type": "code",
   "execution_count": 53,
   "metadata": {},
   "outputs": [
    {
     "data": {
      "text/plain": [
       "False"
      ]
     },
     "execution_count": 53,
     "metadata": {},
     "output_type": "execute_result"
    }
   ],
   "source": [
    "nested_tuple1[2][1]"
   ]
  },
  {
   "cell_type": "code",
   "execution_count": 56,
   "metadata": {},
   "outputs": [
    {
     "name": "stdout",
     "output_type": "stream",
     "text": [
      "1 2 3 \n",
      "Vinoad Mehraa \n",
      "True False \n"
     ]
    }
   ],
   "source": [
    "## iteration in tuple\n",
    "\n",
    "for sub_tuple in nested_tuple1:\n",
    "    for i in sub_tuple:\n",
    "        print(i,end=\" \")\n",
    "    print()"
   ]
  },
  {
   "cell_type": "code",
   "execution_count": 58,
   "metadata": {},
   "outputs": [
    {
     "name": "stdout",
     "output_type": "stream",
     "text": [
      "1\n",
      "2\n",
      "3\n",
      "Vinoad\n",
      "Mehraa\n",
      "True\n",
      "False\n"
     ]
    },
    {
     "data": {
      "text/plain": [
       "[None, None, None, None, None, None, None]"
      ]
     },
     "execution_count": 58,
     "metadata": {},
     "output_type": "execute_result"
    }
   ],
   "source": [
    "[print(i, end=\"\\n\") for sub_tuple in nested_tuple1 for i in sub_tuple]"
   ]
  },
  {
   "cell_type": "code",
   "execution_count": null,
   "metadata": {},
   "outputs": [],
   "source": []
  }
 ],
 "metadata": {
  "kernelspec": {
   "display_name": "Python 3",
   "language": "python",
   "name": "python3"
  },
  "language_info": {
   "codemirror_mode": {
    "name": "ipython",
    "version": 3
   },
   "file_extension": ".py",
   "mimetype": "text/x-python",
   "name": "python",
   "nbconvert_exporter": "python",
   "pygments_lexer": "ipython3",
   "version": "3.12.0"
  }
 },
 "nbformat": 4,
 "nbformat_minor": 2
}
