{
 "cells": [
  {
   "cell_type": "code",
   "execution_count": 1,
   "metadata": {},
   "outputs": [
    {
     "name": "stdout",
     "output_type": "stream",
     "text": [
      "{} <class 'dict'>\n"
     ]
    }
   ],
   "source": [
    "## Creating dictionaries\n",
    "\n",
    "my_empty_dict={}\n",
    "\n",
    "print(my_empty_dict, type(my_empty_dict))"
   ]
  },
  {
   "cell_type": "code",
   "execution_count": 2,
   "metadata": {},
   "outputs": [
    {
     "name": "stdout",
     "output_type": "stream",
     "text": [
      "{} <class 'dict'>\n"
     ]
    }
   ],
   "source": [
    "my_empty_dict2 = dict()\n",
    "\n",
    "print(my_empty_dict2, type(my_empty_dict2))"
   ]
  },
  {
   "cell_type": "code",
   "execution_count": 6,
   "metadata": {},
   "outputs": [
    {
     "name": "stdout",
     "output_type": "stream",
     "text": [
      "{'name': 'Vinoad', 'age': 38, '3': 'Wealth'} Vinoad Wealth <class 'dict'>\n"
     ]
    }
   ],
   "source": [
    "my_dict1={\"name\":\"Vinoad\",\"age\":38,\"3\":\"Wealth\"}\n",
    "\n",
    "print(my_dict1, my_dict1[\"name\"], my_dict1[\"3\"], type(my_dict1))"
   ]
  },
  {
   "cell_type": "code",
   "execution_count": 2,
   "metadata": {},
   "outputs": [
    {
     "name": "stdout",
     "output_type": "stream",
     "text": [
      "{'name': 'Mehraa', '3': 'Prosperous', 'age': 38, 'grade': 'A+'}\n"
     ]
    }
   ],
   "source": [
    "## If a key is used more than once the value for that key will get updated.\n",
    "\n",
    "my_dict2={\"name\":\"Vinoad\",\"3\":\"Prosperous\",\"name\":\"Mehraa\",\"age\":38,\"grade\":'A+'}\n",
    "\n",
    "print(my_dict2)"
   ]
  },
  {
   "cell_type": "code",
   "execution_count": 4,
   "metadata": {},
   "outputs": [
    {
     "name": "stdout",
     "output_type": "stream",
     "text": [
      "inside name\n"
     ]
    }
   ],
   "source": [
    "check1 = my_dict2.get(\"name\")\n",
    "if my_dict2.get(\"name\") is not None:\n",
    "    print(\"inside name\")\n",
    "else:\n",
    "    print(\"Else printing.\")"
   ]
  },
  {
   "cell_type": "code",
   "execution_count": 10,
   "metadata": {},
   "outputs": [
    {
     "name": "stdout",
     "output_type": "stream",
     "text": [
      "Mehraa\n"
     ]
    }
   ],
   "source": [
    "## Accessing dictory elements.\n",
    "\n",
    "## using the key\n",
    "print(my_dict2['name'])\n"
   ]
  },
  {
   "cell_type": "code",
   "execution_count": 14,
   "metadata": {},
   "outputs": [
    {
     "name": "stdout",
     "output_type": "stream",
     "text": [
      "A+\n",
      "None\n"
     ]
    }
   ],
   "source": [
    "##using the get method\n",
    "\n",
    "print(my_dict2.get('grade'))\n",
    "\n",
    "print(my_dict2.get('preferece'))"
   ]
  },
  {
   "cell_type": "code",
   "execution_count": 15,
   "metadata": {},
   "outputs": [
    {
     "name": "stdout",
     "output_type": "stream",
     "text": [
      "{'name': 'Mehraa', '3': 'Prosperous', 'age': 38, 'grade': 'A+'}\n"
     ]
    }
   ],
   "source": [
    "## Modifying dictory elements.\n",
    "\n",
    "## Dictionaries are mutable means, add, update, delete elements.\n",
    "\n",
    "print(my_dict2)"
   ]
  },
  {
   "cell_type": "code",
   "execution_count": 16,
   "metadata": {},
   "outputs": [
    {
     "name": "stdout",
     "output_type": "stream",
     "text": [
      "{'name': 'Mehraa', '3': 'Prosperous', 'age': 39, 'grade': 'A+'}\n",
      "{'name': 'Mehraa', '3': 'Prosperous', 'age': 39, 'grade': 'A+', 'address': 'India'}\n"
     ]
    }
   ],
   "source": [
    "my_dict2['age']=39\n",
    "print(my_dict2)\n",
    "my_dict2['address']=\"India\"\n",
    "print(my_dict2)"
   ]
  },
  {
   "cell_type": "code",
   "execution_count": 17,
   "metadata": {},
   "outputs": [
    {
     "name": "stdout",
     "output_type": "stream",
     "text": [
      "{'name': 'Mehraa', 'age': 39, 'grade': 'A+', 'address': 'India'}\n"
     ]
    }
   ],
   "source": [
    "## delete any key value pair.\n",
    "del my_dict2['3']\n",
    "\n",
    "print(my_dict2)"
   ]
  },
  {
   "cell_type": "code",
   "execution_count": 19,
   "metadata": {},
   "outputs": [
    {
     "name": "stdout",
     "output_type": "stream",
     "text": [
      "dict_keys(['name', 'age', 'grade', 'address'])\n"
     ]
    }
   ],
   "source": [
    "## Dictionary methods.\n",
    "## get all keys in the dictionary.\n",
    "\n",
    "keys=my_dict2.keys()\n",
    "\n",
    "print(keys)"
   ]
  },
  {
   "cell_type": "code",
   "execution_count": 21,
   "metadata": {},
   "outputs": [
    {
     "name": "stdout",
     "output_type": "stream",
     "text": [
      "dict_values(['Mehraa', 39, 'A+', 'India'])\n"
     ]
    }
   ],
   "source": [
    "## Get all values in the dictionary.\n",
    "my_values=my_dict2.values()\n",
    "\n",
    "print(my_values)"
   ]
  },
  {
   "cell_type": "code",
   "execution_count": 22,
   "metadata": {},
   "outputs": [
    {
     "name": "stdout",
     "output_type": "stream",
     "text": [
      "dict_items([('name', 'Mehraa'), ('age', 39), ('grade', 'A+'), ('address', 'India')])\n"
     ]
    }
   ],
   "source": [
    "## Get all key values pairs.\n",
    "\n",
    "dict_items=my_dict2.items()\n",
    "print(dict_items)"
   ]
  },
  {
   "cell_type": "code",
   "execution_count": 23,
   "metadata": {},
   "outputs": [
    {
     "name": "stdout",
     "output_type": "stream",
     "text": [
      "{'name': 'Mehraa', 'age': 39, 'grade': 'A+', 'address': 'India'}\n",
      "{'name': 'Mehraa', 'age': 39, 'grade': 'A+', 'address': 'India'}\n"
     ]
    }
   ],
   "source": [
    "## Shallow Copy Concept\n",
    "\n",
    "my_dict2_copy = my_dict2\n",
    "\n",
    "print(my_dict2)\n",
    "\n",
    "print(my_dict2_copy)"
   ]
  },
  {
   "cell_type": "code",
   "execution_count": 32,
   "metadata": {},
   "outputs": [
    {
     "name": "stdout",
     "output_type": "stream",
     "text": [
      "{'name': 'Rishibha', 'age': 39, 'grade': 'A+', 'address': 'India'}\n",
      "{'name': 'Rishibha', 'age': 39, 'grade': 'A+', 'address': 'India'}\n"
     ]
    }
   ],
   "source": [
    "my_dict2['name']=\"Rishibha\"\n",
    "\n",
    "print(my_dict2)\n",
    "\n",
    "print(my_dict2_copy)"
   ]
  },
  {
   "cell_type": "code",
   "execution_count": 33,
   "metadata": {},
   "outputs": [
    {
     "name": "stdout",
     "output_type": "stream",
     "text": [
      "{'name': 'Rishibha', 'age': 39, 'grade': 'A+', 'address': 'India'}\n"
     ]
    }
   ],
   "source": [
    "## There we need the shallow copy so that different memory is allocated to the instance.\n",
    "## We use copy function to get the shallow copy.\n",
    "\n",
    "my_dict2_shallow_copy = my_dict2.copy()\n",
    "\n",
    "print(my_dict2_shallow_copy)"
   ]
  },
  {
   "cell_type": "code",
   "execution_count": 34,
   "metadata": {},
   "outputs": [
    {
     "name": "stdout",
     "output_type": "stream",
     "text": [
      "{'name': 'Sharma', 'age': 39, 'grade': 'A+', 'address': 'India'}\n",
      "{'name': 'Sharma', 'age': 39, 'grade': 'A+', 'address': 'India'}\n",
      "{'name': 'Rishibha', 'age': 39, 'grade': 'A+', 'address': 'India'}\n"
     ]
    }
   ],
   "source": [
    "my_dict2['name']=\"Sharma\"\n",
    "\n",
    "print(my_dict2)\n",
    "\n",
    "print(my_dict2_copy)\n",
    "\n",
    "print(my_dict2_shallow_copy)"
   ]
  },
  {
   "cell_type": "code",
   "execution_count": 35,
   "metadata": {},
   "outputs": [
    {
     "name": "stdout",
     "output_type": "stream",
     "text": [
      "{'name': 'Rishibha', 'age': 39, 'grade': 'A+', 'address': 'India'}\n",
      "{'name': 'Sharma', 'age': 39, 'grade': 'A+', 'address': 'India'}\n",
      "{'name': 'Sharma', 'age': 39, 'grade': 'A+', 'address': 'India'}\n"
     ]
    }
   ],
   "source": [
    "print(my_dict2_shallow_copy)\n",
    "\n",
    "print(my_dict2_copy)\n",
    "\n",
    "print(my_dict2)"
   ]
  },
  {
   "cell_type": "code",
   "execution_count": 36,
   "metadata": {},
   "outputs": [],
   "source": [
    "my_dict2['name']='Samrat'"
   ]
  },
  {
   "cell_type": "code",
   "execution_count": 37,
   "metadata": {},
   "outputs": [
    {
     "name": "stdout",
     "output_type": "stream",
     "text": [
      "{'name': 'Rishibha', 'age': 39, 'grade': 'A+', 'address': 'India'}\n",
      "{'name': 'Samrat', 'age': 39, 'grade': 'A+', 'address': 'India'}\n",
      "{'name': 'Samrat', 'age': 39, 'grade': 'A+', 'address': 'India'}\n"
     ]
    }
   ],
   "source": [
    "print(my_dict2_shallow_copy)\n",
    "\n",
    "print(my_dict2_copy)\n",
    "\n",
    "print(my_dict2)"
   ]
  },
  {
   "cell_type": "code",
   "execution_count": 42,
   "metadata": {},
   "outputs": [
    {
     "name": "stdout",
     "output_type": "stream",
     "text": [
      "name\n",
      "age\n",
      "grade\n",
      "address\n"
     ]
    }
   ],
   "source": [
    "## Iteration over dictionaries.\n",
    "\n",
    "## loops can be used to iterate over dictionaries. key, values, items.\n",
    "\n",
    "## Iteration over keys.\n",
    "\n",
    "for i in my_dict2.keys():\n",
    "    print(i)\n"
   ]
  },
  {
   "cell_type": "code",
   "execution_count": 43,
   "metadata": {},
   "outputs": [
    {
     "name": "stdout",
     "output_type": "stream",
     "text": [
      "Samrat\n",
      "39\n",
      "A+\n",
      "India\n"
     ]
    }
   ],
   "source": [
    "## Iteration over values.\n",
    "\n",
    "for i in my_dict2.values():\n",
    "    print(i)"
   ]
  },
  {
   "cell_type": "code",
   "execution_count": 44,
   "metadata": {},
   "outputs": [
    {
     "name": "stdout",
     "output_type": "stream",
     "text": [
      "name Samrat\n",
      "age 39\n",
      "grade A+\n",
      "address India\n"
     ]
    }
   ],
   "source": [
    "## Iteration over key values.\n",
    "\n",
    "for i,y in my_dict2.items():\n",
    "    print(i,y)"
   ]
  },
  {
   "cell_type": "code",
   "execution_count": 45,
   "metadata": {},
   "outputs": [
    {
     "name": "stdout",
     "output_type": "stream",
     "text": [
      "{'student1': {'name': 'Vinoad', 'age': 38, 'height': 5.11}, 'student2': {'name': 'Rishibha', 'age': 36, 'heigh': 5.5}, 'place1': {'home': 'Sonipat'}, 'place2': {'home': 'Meerut'}, 'grade1': {'Math': 'A+', 'Science': 'A+'}, 'grade2': {'Math': 'A', 'Science': 'A+'}}\n"
     ]
    }
   ],
   "source": [
    "## Nested Dictionaries.\n",
    "\n",
    "my_nested_dict={\n",
    "    'student1':{'name':'Vinoad','age':38,'height':5.11},\n",
    "    'student2':{'name':'Rishibha','age':36,'heigh':5.5},\n",
    "    'place1':{'home':'Sonipat'},\n",
    "    'place2':{'home':'Meerut'},\n",
    "    'grade1':{'Math':'A+','Science':'A+'},\n",
    "    'grade2':{'Math':'A','Science':'A+'}\n",
    "}\n",
    "\n",
    "print(my_nested_dict)"
   ]
  },
  {
   "cell_type": "code",
   "execution_count": 48,
   "metadata": {},
   "outputs": [
    {
     "name": "stdout",
     "output_type": "stream",
     "text": [
      "Rishibha <class 'str'>\n",
      "5.11 <class 'float'>\n"
     ]
    }
   ],
   "source": [
    "## Access nested dictionaries.\n",
    "\n",
    "print(my_nested_dict['student2']['name'], type(my_nested_dict['student2']['name']))\n",
    "\n",
    "print(my_nested_dict['student1']['height'], type(my_nested_dict['student1']['height']))\n",
    "    "
   ]
  },
  {
   "cell_type": "code",
   "execution_count": 56,
   "metadata": {},
   "outputs": [
    {
     "name": "stdout",
     "output_type": "stream",
     "text": [
      "student1 {'name': 'Vinoad', 'age': 38, 'height': 5.11}\n",
      "name Vinoad\n",
      "age 38\n",
      "height 5.11\n",
      "student2 {'name': 'Rishibha', 'age': 36, 'heigh': 5.5}\n",
      "name Rishibha\n",
      "age 36\n",
      "heigh 5.5\n",
      "place1 {'home': 'Sonipat'}\n",
      "home Sonipat\n",
      "place2 {'home': 'Meerut'}\n",
      "home Meerut\n",
      "grade1 {'Math': 'A+', 'Science': 'A+'}\n",
      "Math A+\n",
      "Science A+\n",
      "grade2 {'Math': 'A', 'Science': 'A+'}\n",
      "Math A\n",
      "Science A+\n"
     ]
    }
   ],
   "source": [
    "## Nested iteration\n",
    "\n",
    "for x,y in my_nested_dict.items():\n",
    "    print(x,y)\n",
    "    for x1,y1 in y.items():\n",
    "        print(x1,y1)"
   ]
  },
  {
   "cell_type": "code",
   "execution_count": 58,
   "metadata": {},
   "outputs": [
    {
     "name": "stdout",
     "output_type": "stream",
     "text": [
      "{0: 0, 1: 1, 2: 4, 3: 9, 4: 16}\n"
     ]
    }
   ],
   "source": [
    "## Dictionary Comprehension.\n",
    "\n",
    "my_square1={x:x**2 for x in range(5)}\n",
    "\n",
    "print(my_square1)"
   ]
  },
  {
   "cell_type": "code",
   "execution_count": 60,
   "metadata": {},
   "outputs": [
    {
     "name": "stdout",
     "output_type": "stream",
     "text": [
      "{0: 0, 2: 4, 4: 16, 6: 36, 8: 64}\n"
     ]
    }
   ],
   "source": [
    "## Conditional dictionary comprehenstion.\n",
    "\n",
    "my_square2={ x:x**2 for x in range(10) if x%2==0}\n",
    "print(my_square2)"
   ]
  },
  {
   "cell_type": "code",
   "execution_count": 62,
   "metadata": {},
   "outputs": [
    {
     "name": "stdout",
     "output_type": "stream",
     "text": [
      "[1, 2, 2, 3, 3, 4, 4, 4, 5, 5, 5, 5, 5, 6, 6, 7, 8, 9, 9]\n"
     ]
    }
   ],
   "source": [
    "## Practical examples.\n",
    "\n",
    "## use a dictionary to count the frequency of element in list.\n",
    "\n",
    "my_list=[1,2,2,3,3,4,4,4,5,5,5,5,5,6,6,7,8,9,9]\n",
    "\n",
    "print(my_list)\n"
   ]
  },
  {
   "cell_type": "code",
   "execution_count": 70,
   "metadata": {},
   "outputs": [
    {
     "name": "stdout",
     "output_type": "stream",
     "text": [
      "{1: 1, 2: 2, 3: 2, 4: 3, 5: 5, 6: 2, 7: 1, 8: 1, 9: 2}\n"
     ]
    }
   ],
   "source": [
    "my_list=[1,2,2,3,3,4,4,4,5,5,5,5,5,6,6,7,8,9,9]\n",
    "\n",
    "my_dictionary={}\n",
    "for x in my_list:\n",
    "    if x in my_dictionary:\n",
    "        my_dictionary[x]+=1\n",
    "    else:\n",
    "        my_dictionary[x]=1\n",
    "print(my_dictionary)"
   ]
  },
  {
   "cell_type": "code",
   "execution_count": 71,
   "metadata": {},
   "outputs": [
    {
     "name": "stdout",
     "output_type": "stream",
     "text": [
      "{'name': 'Vinoad', 'age': 38, '3': 'Wealth'}\n",
      "{'name': 'Samrat', 'age': 39, 'grade': 'A+', 'address': 'India'}\n"
     ]
    }
   ],
   "source": [
    "## Merging two dictionaries.\n",
    "\n",
    "print(my_dict1)\n",
    "\n",
    "print(my_dict2)"
   ]
  },
  {
   "cell_type": "code",
   "execution_count": 73,
   "metadata": {},
   "outputs": [
    {
     "name": "stdout",
     "output_type": "stream",
     "text": [
      "{'name': 'Samrat', 'age': 39, '3': 'Wealth', 'grade': 'A+', 'address': 'India'}\n"
     ]
    }
   ],
   "source": [
    "merged_dictionary={**my_dict1, **my_dict2}\n",
    "\n",
    "print(merged_dictionary)"
   ]
  },
  {
   "cell_type": "code",
   "execution_count": null,
   "metadata": {},
   "outputs": [],
   "source": []
  }
 ],
 "metadata": {
  "kernelspec": {
   "display_name": "Python 3",
   "language": "python",
   "name": "python3"
  },
  "language_info": {
   "codemirror_mode": {
    "name": "ipython",
    "version": 3
   },
   "file_extension": ".py",
   "mimetype": "text/x-python",
   "name": "python",
   "nbconvert_exporter": "python",
   "pygments_lexer": "ipython3",
   "version": "3.12.0"
  }
 },
 "nbformat": 4,
 "nbformat_minor": 2
}
