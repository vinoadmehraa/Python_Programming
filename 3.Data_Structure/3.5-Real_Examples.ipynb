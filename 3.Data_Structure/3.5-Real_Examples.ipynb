{
 "cells": [
  {
   "cell_type": "code",
   "execution_count": 25,
   "metadata": {},
   "outputs": [
    {
     "name": "stdout",
     "output_type": "stream",
     "text": [
      "Total positive feedback: 3\n"
     ]
    }
   ],
   "source": [
    "## How to analyze the user feedback.\n",
    "\n",
    "## Collecting user feedback.\n",
    "usr_feedback = [\"Great Service\",\"Very Satisfied\",\"Could be better\",\"Excellent experience\",\"Great Job\"]\n",
    "\n",
    "##Adding new feeback.\n",
    "usr_feedback.append(\"Not happy with customer service\")\n",
    "\n",
    "positive_feed_count=0\n",
    "\n",
    "positive_feed_count= sum( 1 for i in usr_feedback if (\"great\" in i.lower() or \"excellent\" in i.lower()))\n",
    "\n",
    "print(\"Total positive feedback:\", positive_feed_count)\n"
   ]
  },
  {
   "cell_type": "code",
   "execution_count": null,
   "metadata": {},
   "outputs": [],
   "source": []
  }
 ],
 "metadata": {
  "kernelspec": {
   "display_name": "Python 3",
   "language": "python",
   "name": "python3"
  },
  "language_info": {
   "codemirror_mode": {
    "name": "ipython",
    "version": 3
   },
   "file_extension": ".py",
   "mimetype": "text/x-python",
   "name": "python",
   "nbconvert_exporter": "python",
   "pygments_lexer": "ipython3",
   "version": "3.12.0"
  }
 },
 "nbformat": 4,
 "nbformat_minor": 2
}
