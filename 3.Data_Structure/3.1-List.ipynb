{
 "cells": [
  {
   "cell_type": "code",
   "execution_count": 2,
   "metadata": {},
   "outputs": [
    {
     "name": "stdout",
     "output_type": "stream",
     "text": [
      "[]\n",
      "<class 'list'>\n"
     ]
    }
   ],
   "source": [
    "##define a list\n",
    "\n",
    "my_list=[]\n",
    "print(my_list)\n",
    "print(type(my_list))"
   ]
  },
  {
   "cell_type": "code",
   "execution_count": 5,
   "metadata": {},
   "outputs": [
    {
     "name": "stdout",
     "output_type": "stream",
     "text": [
      "['Vinoad', 'Rishibha', 1, 2, -5, 3.5, 7, True]\n"
     ]
    }
   ],
   "source": [
    "list_of_names=[\"Vinoad\",\"Rishibha\",1,2,-5,3.5,7, True]\n",
    "\n",
    "print(list_of_names)"
   ]
  },
  {
   "cell_type": "code",
   "execution_count": 22,
   "metadata": {},
   "outputs": [
    {
     "name": "stdout",
     "output_type": "stream",
     "text": [
      "apple\n",
      "gauvava\n",
      "Orange\n"
     ]
    }
   ],
   "source": [
    "## Accessing list items.\n",
    "\n",
    "fruits =['apple','banana','cheery','pomigranade','gauvava','Kiwi','Orange','Pineapple']\n",
    "print(fruits[0])\n",
    "\n",
    "print(fruits[4])\n",
    "\n",
    "print(fruits[-2])"
   ]
  },
  {
   "cell_type": "code",
   "execution_count": 31,
   "metadata": {},
   "outputs": [
    {
     "name": "stdout",
     "output_type": "stream",
     "text": [
      "['banana', 'cheery', 'pomigranade', 'gauvava', 'Kiwi', 'Orange', 'Pineapple']\n",
      "['banana', 'pomigranade', 'Kiwi', 'Pineapple']\n",
      "['banana', 'cheery', 'pomigranade', 'gauvava']\n",
      "['banana', 'pomigranade', 'Kiwi']\n"
     ]
    }
   ],
   "source": [
    "print(fruits[1:])\n",
    "\n",
    "print(fruits[1:8:2])\n",
    "\n",
    "print(fruits[-7:-3])\n",
    "\n",
    "print(fruits[-7:-2:2])"
   ]
  },
  {
   "cell_type": "code",
   "execution_count": 33,
   "metadata": {},
   "outputs": [
    {
     "data": {
      "text/plain": [
       "'banana'"
      ]
     },
     "execution_count": 33,
     "metadata": {},
     "output_type": "execute_result"
    }
   ],
   "source": [
    "## modifying the list element.\n",
    "\n",
    "fruits[1]"
   ]
  },
  {
   "cell_type": "code",
   "execution_count": 35,
   "metadata": {},
   "outputs": [
    {
     "name": "stdout",
     "output_type": "stream",
     "text": [
      "['apple', 'Blueberries', 'cheery', 'pomigranade', 'gauvava', 'Kiwi', 'Orange', 'Pineapple']\n"
     ]
    }
   ],
   "source": [
    "fruits[1] = \"Blueberries\"\n",
    "\n",
    "print(fruits)"
   ]
  },
  {
   "cell_type": "code",
   "execution_count": 37,
   "metadata": {},
   "outputs": [
    {
     "name": "stdout",
     "output_type": "stream",
     "text": [
      "['apple', 'Blueberries', 'S', 't', 'r', 'a', 'w', 'b', 'e', 'e', 'r', 'i', 'e', 's']\n"
     ]
    }
   ],
   "source": [
    "fruits[2:]=\"Strawbeeries\"\n",
    "\n",
    "print(fruits)"
   ]
  },
  {
   "cell_type": "code",
   "execution_count": 38,
   "metadata": {},
   "outputs": [],
   "source": [
    "fruits =['apple','banana','cheery','pomigranade','gauvava','Kiwi','Orange','Pineapple']"
   ]
  },
  {
   "cell_type": "code",
   "execution_count": 39,
   "metadata": {},
   "outputs": [
    {
     "name": "stdout",
     "output_type": "stream",
     "text": [
      "['apple', 'banana', 'cheery', 'pomigranade', 'gauvava', 'Kiwi', 'Orange', 'Pineapple']\n"
     ]
    }
   ],
   "source": [
    "## List methods\n",
    "\n",
    "print(fruits)"
   ]
  },
  {
   "cell_type": "code",
   "execution_count": 47,
   "metadata": {},
   "outputs": [
    {
     "name": "stdout",
     "output_type": "stream",
     "text": [
      "['pomigranade', 'gauvava', 'cheery', 'banana', 'apple', 'Pineapple', 'Orange', 'Kiwi']\n"
     ]
    }
   ],
   "source": [
    "fruits.sort(reverse=True)\n",
    "\n",
    "print(fruits)"
   ]
  },
  {
   "cell_type": "code",
   "execution_count": 49,
   "metadata": {},
   "outputs": [
    {
     "name": "stdout",
     "output_type": "stream",
     "text": [
      "['Kiwi', 'Orange', 'Pineapple', 'apple', 'banana', 'cheery', 'gauvava', 'pomigranade']\n"
     ]
    }
   ],
   "source": [
    "fruits.sort(reverse=False)\n",
    "\n",
    "print(fruits)"
   ]
  },
  {
   "cell_type": "code",
   "execution_count": 53,
   "metadata": {},
   "outputs": [
    {
     "name": "stdout",
     "output_type": "stream",
     "text": [
      "['Kiwi', 'Orange', 'Pineapple', 'apple', 'banana', 'cheery', 'gauvava', 'pomigranade', 'Carrot', 'Carrot', 'Carrot', 'Carrot']\n"
     ]
    }
   ],
   "source": [
    "fruits.append(\"Carrot\")\n",
    "\n",
    "print(fruits)"
   ]
  },
  {
   "cell_type": "code",
   "execution_count": 57,
   "metadata": {},
   "outputs": [
    {
     "name": "stdout",
     "output_type": "stream",
     "text": [
      "['Kiwi', 'Orange', 'Tomato', 'Tomato', 'Tomato', 'Tomato', 'Pineapple', 'apple', 'banana', 'cheery', 'gauvava', 'pomigranade', 'Carrot', 'Carrot', 'Carrot', 'Carrot']\n"
     ]
    }
   ],
   "source": [
    "## add an element at an index.\n",
    "\n",
    "fruits.insert(2,\"Tomato\")\n",
    "\n",
    "print(fruits)"
   ]
  },
  {
   "cell_type": "code",
   "execution_count": 59,
   "metadata": {},
   "outputs": [
    {
     "data": {
      "text/plain": [
       "4"
      ]
     },
     "execution_count": 59,
     "metadata": {},
     "output_type": "execute_result"
    }
   ],
   "source": [
    "fruits.count(\"Carrot\")"
   ]
  },
  {
   "cell_type": "code",
   "execution_count": 64,
   "metadata": {},
   "outputs": [],
   "source": [
    "## Remove the value when first occure not all the occurance.\n",
    "\n",
    "fruits.remove(\"Tomato\")"
   ]
  },
  {
   "cell_type": "code",
   "execution_count": 65,
   "metadata": {},
   "outputs": [
    {
     "name": "stdout",
     "output_type": "stream",
     "text": [
      "['Kiwi', 'Orange', 'Tomato', 'Pineapple', 'apple', 'banana', 'cheery', 'gauvava', 'pomigranade', 'Carrot', 'Carrot', 'Carrot', 'Carrot']\n"
     ]
    }
   ],
   "source": [
    "print(fruits)"
   ]
  },
  {
   "cell_type": "code",
   "execution_count": 69,
   "metadata": {},
   "outputs": [],
   "source": [
    "fruits.remove(\"Carrot\")"
   ]
  },
  {
   "cell_type": "code",
   "execution_count": 70,
   "metadata": {},
   "outputs": [
    {
     "name": "stdout",
     "output_type": "stream",
     "text": [
      "['Kiwi', 'Orange', 'Tomato', 'Pineapple', 'apple', 'banana', 'cheery', 'gauvava', 'pomigranade']\n"
     ]
    }
   ],
   "source": [
    "print(fruits)"
   ]
  },
  {
   "cell_type": "code",
   "execution_count": 71,
   "metadata": {},
   "outputs": [
    {
     "name": "stdout",
     "output_type": "stream",
     "text": [
      "pomigranade\n"
     ]
    }
   ],
   "source": [
    "## Remove and return the last element in the list\n",
    " \n",
    "popped_fruits=fruits.pop()\n",
    "print(popped_fruits)"
   ]
  },
  {
   "cell_type": "code",
   "execution_count": 76,
   "metadata": {},
   "outputs": [
    {
     "name": "stdout",
     "output_type": "stream",
     "text": [
      "['gauvava', 'cheery', 'banana', 'apple', 'Tomato', 'Pineapple', 'Orange', 'Kiwi']\n"
     ]
    }
   ],
   "source": [
    "rev_pop_fruit=fruits.sort(reverse=True)\n",
    "print(fruits)"
   ]
  },
  {
   "cell_type": "code",
   "execution_count": 78,
   "metadata": {},
   "outputs": [
    {
     "name": "stdout",
     "output_type": "stream",
     "text": [
      "<class 'NoneType'>\n",
      "<class 'list'>\n",
      "<class 'NoneType'>\n"
     ]
    }
   ],
   "source": [
    "print(type(rev_pop_fruit))\n",
    "\n",
    "print(type(fruits))\n",
    "\n",
    "print(type(fruits.sort()))"
   ]
  },
  {
   "cell_type": "code",
   "execution_count": 81,
   "metadata": {},
   "outputs": [
    {
     "name": "stdout",
     "output_type": "stream",
     "text": [
      "['Kiwi', 'Orange', 'Pineapple', 'Tomato', 'apple', 'banana']\n"
     ]
    }
   ],
   "source": [
    "print(fruits)\n",
    "\n",
    "#print(fruits.pop())"
   ]
  },
  {
   "cell_type": "code",
   "execution_count": 85,
   "metadata": {},
   "outputs": [
    {
     "name": "stdout",
     "output_type": "stream",
     "text": [
      "2\n"
     ]
    }
   ],
   "source": [
    "## find the index of an element.\n",
    "\n",
    "index_fruits=fruits.index(\"Pineapple\")\n",
    "\n",
    "print(index_fruits)"
   ]
  },
  {
   "cell_type": "code",
   "execution_count": 87,
   "metadata": {},
   "outputs": [
    {
     "name": "stdout",
     "output_type": "stream",
     "text": [
      "[3, 4, 5]\n",
      "[1, 2, 3, 4, 5]\n",
      "[6, 7, 8, 9, 10]\n",
      "[1, 4, 7, 10]\n",
      "[10, 8, 6, 4, 2]\n"
     ]
    }
   ],
   "source": [
    "## Slicing the list\n",
    "Numbers=[1,2,3,4,5,6,7,8,9,10]\n",
    "\n",
    "print(Numbers[2:5])\n",
    "print(Numbers[:5])\n",
    "print(Numbers[5:])\n",
    "print(Numbers[::3])\n",
    "print(Numbers[::-2])"
   ]
  },
  {
   "cell_type": "code",
   "execution_count": 89,
   "metadata": {},
   "outputs": [
    {
     "name": "stdout",
     "output_type": "stream",
     "text": [
      "Kiwi\n",
      "Orange\n",
      "Pineapple\n",
      "Tomato\n",
      "apple\n",
      "banana\n"
     ]
    }
   ],
   "source": [
    "## iteration over list\n",
    "for i in fruits:\n",
    "    print(i)"
   ]
  },
  {
   "cell_type": "code",
   "execution_count": 90,
   "metadata": {},
   "outputs": [
    {
     "name": "stdout",
     "output_type": "stream",
     "text": [
      "0 Kiwi\n",
      "1 Orange\n",
      "2 Pineapple\n",
      "3 Tomato\n",
      "4 apple\n",
      "5 banana\n"
     ]
    }
   ],
   "source": [
    "## iteration with index\n",
    "for index,i in enumerate(fruits):\n",
    "    print(index,i)"
   ]
  },
  {
   "cell_type": "code",
   "execution_count": 91,
   "metadata": {},
   "outputs": [],
   "source": [
    "## List comprehension\n",
    "my_list=[]\n",
    "for i in range(10):\n",
    "    my_list.append(i**2)"
   ]
  },
  {
   "cell_type": "code",
   "execution_count": 92,
   "metadata": {},
   "outputs": [
    {
     "name": "stdout",
     "output_type": "stream",
     "text": [
      "[0, 1, 4, 9, 16, 25, 36, 49, 64, 81]\n"
     ]
    }
   ],
   "source": [
    "print(my_list)"
   ]
  },
  {
   "cell_type": "code",
   "execution_count": 96,
   "metadata": {},
   "outputs": [],
   "source": [
    "## List comprehension can be re-written as below.\n",
    "## the activity within the for loop can be written before the for loop.\n",
    "\n",
    "my_list2= [x**2 for x in range(10)]"
   ]
  },
  {
   "cell_type": "code",
   "execution_count": 97,
   "metadata": {},
   "outputs": [
    {
     "name": "stdout",
     "output_type": "stream",
     "text": [
      "[0, 1, 4, 9, 16, 25, 36, 49, 64, 81]\n"
     ]
    }
   ],
   "source": [
    "print(my_list2)"
   ]
  },
  {
   "cell_type": "code",
   "execution_count": 99,
   "metadata": {},
   "outputs": [
    {
     "data": {
      "text/plain": [
       "[0, 1, 4, 9, 16, 25, 36, 49, 64, 81]"
      ]
     },
     "execution_count": 99,
     "metadata": {},
     "output_type": "execute_result"
    }
   ],
   "source": [
    "## So, Basic Comprehension - without condition\n",
    "square=[x**2 for x in range(10)]\n",
    "\n",
    "square\n"
   ]
  },
  {
   "cell_type": "code",
   "execution_count": 101,
   "metadata": {},
   "outputs": [
    {
     "name": "stdout",
     "output_type": "stream",
     "text": [
      "[0, 2, 4, 6, 8]\n"
     ]
    }
   ],
   "source": [
    "## Comprehension with condition\n",
    "\n",
    "lst=[]\n",
    "for x in range(10):\n",
    "    if x%2==0:\n",
    "        lst.append(x)\n",
    "\n",
    "print(lst)\n"
   ]
  },
  {
   "cell_type": "code",
   "execution_count": 102,
   "metadata": {},
   "outputs": [
    {
     "name": "stdout",
     "output_type": "stream",
     "text": [
      "[0, 2, 4, 6, 8]\n"
     ]
    }
   ],
   "source": [
    "squared_list=[x for x in range(10) if x%2==0]\n",
    "\n",
    "print(squared_list)"
   ]
  },
  {
   "cell_type": "code",
   "execution_count": 107,
   "metadata": {},
   "outputs": [
    {
     "name": "stdout",
     "output_type": "stream",
     "text": [
      "[1, 'a']\n",
      "[1, 'b']\n",
      "[1, 'c']\n",
      "[1, 'd']\n",
      "[2, 'a']\n",
      "[2, 'b']\n",
      "[2, 'c']\n",
      "[2, 'd']\n",
      "[3, 'a']\n",
      "[3, 'b']\n",
      "[3, 'c']\n",
      "[3, 'd']\n",
      "[4, 'a']\n",
      "[4, 'b']\n",
      "[4, 'c']\n",
      "[4, 'd']\n"
     ]
    }
   ],
   "source": [
    "## Nested List comprehension.\n",
    "\n",
    "lst1=[1,2,3,4]\n",
    "\n",
    "lst2=['a','b','c','d']\n",
    "\n",
    "for i in lst1:\n",
    "    for j in lst2:\n",
    "        print([i,j])"
   ]
  },
  {
   "cell_type": "code",
   "execution_count": 112,
   "metadata": {},
   "outputs": [
    {
     "name": "stdout",
     "output_type": "stream",
     "text": [
      "[(1, 'a'), (1, 'b'), (1, 'c'), (1, 'd'), (2, 'a'), (2, 'b'), (2, 'c'), (2, 'd'), (3, 'a'), (3, 'b'), (3, 'c'), (3, 'd'), (4, 'a'), (4, 'b'), (4, 'c'), (4, 'd')]\n"
     ]
    }
   ],
   "source": [
    "nested_lst_comprehension=[(x,y) for x in lst1 for y in lst2]\n",
    "\n",
    "print(nested_lst_comprehension)"
   ]
  },
  {
   "cell_type": "code",
   "execution_count": 114,
   "metadata": {},
   "outputs": [
    {
     "name": "stdout",
     "output_type": "stream",
     "text": [
      "[5, 4, 2, 4, 2, 6]\n"
     ]
    }
   ],
   "source": [
    "## List comprehension with function call\n",
    "list1=[\"hello\",\"Dear\",\"My\",\"Name\",\"Is\",\"Vinoad\"]\n",
    "my_length=[len(i) for i in list1]\n",
    "print(my_length)"
   ]
  },
  {
   "cell_type": "code",
   "execution_count": null,
   "metadata": {},
   "outputs": [],
   "source": []
  }
 ],
 "metadata": {
  "kernelspec": {
   "display_name": "Python 3",
   "language": "python",
   "name": "python3"
  },
  "language_info": {
   "codemirror_mode": {
    "name": "ipython",
    "version": 3
   },
   "file_extension": ".py",
   "mimetype": "text/x-python",
   "name": "python",
   "nbconvert_exporter": "python",
   "pygments_lexer": "ipython3",
   "version": "3.12.0"
  }
 },
 "nbformat": 4,
 "nbformat_minor": 2
}
