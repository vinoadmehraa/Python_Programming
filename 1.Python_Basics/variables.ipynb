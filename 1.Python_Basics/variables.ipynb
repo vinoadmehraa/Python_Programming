{
 "cells": [
  {
   "cell_type": "code",
   "execution_count": 2,
   "metadata": {},
   "outputs": [
    {
     "name": "stdout",
     "output_type": "stream",
     "text": [
      "My age is: 38\n",
      "My height is: 5.11\n",
      "My name is: Vinoad\n"
     ]
    }
   ],
   "source": [
    "# Declare and assignment of variables.\n",
    "\n",
    "age=38\n",
    "\n",
    "height=5.11\n",
    "\n",
    "name='Vinoad'\n",
    "\n",
    "## print all the variables..\n",
    "\n",
    "print(\"My age is:\",age)\n",
    "\n",
    "print(\"My height is:\",height)\n",
    "\n",
    "print(\"My name is:\",name)"
   ]
  },
  {
   "cell_type": "code",
   "execution_count": 5,
   "metadata": {},
   "outputs": [
    {
     "name": "stdout",
     "output_type": "stream",
     "text": [
      "The type of var1 variable: 10 <class 'int'>\n",
      "The type of var1 variable: Vinoad <class 'str'>\n",
      "The type of var1 variable: 9.12 <class 'float'>\n"
     ]
    }
   ],
   "source": [
    "## Naming conventions\n",
    "## a variable name should be descriptive.\n",
    "## it can start with a character or with underscore.\n",
    "## it can can contain, letters, numbers and underscore inside.\n",
    "## variables are case sensitives.\n",
    "\n",
    "## Dynamic Typing.\n",
    "## Python allow the type of variable change during program execution.\n",
    "\n",
    "var1=10\n",
    "print(\"The type of var1 variable:\", var1,type(var1))\n",
    "\n",
    "var1='Vinoad'\n",
    "print(\"The type of var1 variable:\", var1,type(var1))\n",
    "\n",
    "var1=9.12\n",
    "print(\"The type of var1 variable:\", var1,type(var1))"
   ]
  },
  {
   "cell_type": "code",
   "execution_count": 8,
   "metadata": {},
   "outputs": [
    {
     "name": "stdout",
     "output_type": "stream",
     "text": [
      "3 <class 'str'>\n"
     ]
    }
   ],
   "source": [
    "## Another example.\n",
    "\n",
    "age=input(\"What is your age\")\n",
    "print(age,type(age))"
   ]
  },
  {
   "cell_type": "code",
   "execution_count": null,
   "metadata": {},
   "outputs": [],
   "source": []
  }
 ],
 "metadata": {
  "kernelspec": {
   "display_name": "Python 3",
   "language": "python",
   "name": "python3"
  },
  "language_info": {
   "codemirror_mode": {
    "name": "ipython",
    "version": 3
   },
   "file_extension": ".py",
   "mimetype": "text/x-python",
   "name": "python",
   "nbconvert_exporter": "python",
   "pygments_lexer": "ipython3",
   "version": "3.12.0"
  }
 },
 "nbformat": 4,
 "nbformat_minor": 2
}
