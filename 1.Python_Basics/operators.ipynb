{
 "cells": [
  {
   "cell_type": "code",
   "execution_count": 5,
   "metadata": {},
   "outputs": [
    {
     "name": "stdout",
     "output_type": "stream",
     "text": [
      "40\n",
      "-20\n",
      "300\n",
      "0.3333333333333333\n",
      "0\n",
      "10\n",
      "1000000000000000000000000000000\n"
     ]
    }
   ],
   "source": [
    "## Arithmatic Operation\n",
    "\n",
    "a=10\n",
    "\n",
    "b=30\n",
    "\n",
    "add_result=a+b ## addition operation\n",
    "\n",
    "sub_result=a-b ## subtraction operation\n",
    "\n",
    "mul_result=a*b ## multiplication operation\n",
    "\n",
    "div_result=a/b ## division operation\n",
    "\n",
    "floor_div_result=a//b ## floor operation\n",
    "\n",
    "modulus_result = a%b ## modulus operation\n",
    "\n",
    "exponential_result=a**b ## Exponential operation\n",
    "\n",
    "\n",
    "print(add_result)\n",
    "\n",
    "print(sub_result)\n",
    "\n",
    "print(mul_result)\n",
    "\n",
    "print(div_result)\n",
    "\n",
    "print(floor_div_result)\n",
    "\n",
    "print(modulus_result)\n",
    "\n",
    "print(exponential_result)\n"
   ]
  },
  {
   "cell_type": "code",
   "execution_count": 7,
   "metadata": {},
   "outputs": [
    {
     "name": "stdout",
     "output_type": "stream",
     "text": [
      "True\n"
     ]
    }
   ],
   "source": [
    "## Comparison operators\n",
    "\n",
    "## ==\n",
    "\n",
    "a=10\n",
    "\n",
    "b=10\n",
    "\n",
    "result=(a==b)\n",
    "\n",
    "print(result)"
   ]
  },
  {
   "cell_type": "code",
   "execution_count": 9,
   "metadata": {},
   "outputs": [
    {
     "data": {
      "text/plain": [
       "False"
      ]
     },
     "execution_count": 9,
     "metadata": {},
     "output_type": "execute_result"
    }
   ],
   "source": [
    "str1=\"Vinoad\"\n",
    "\n",
    "str2=\"Mehraa\"\n",
    "\n",
    "str1==str2"
   ]
  },
  {
   "cell_type": "code",
   "execution_count": 10,
   "metadata": {},
   "outputs": [
    {
     "data": {
      "text/plain": [
       "True"
      ]
     },
     "execution_count": 10,
     "metadata": {},
     "output_type": "execute_result"
    }
   ],
   "source": [
    "str1!=str2"
   ]
  },
  {
   "cell_type": "code",
   "execution_count": 11,
   "metadata": {},
   "outputs": [
    {
     "data": {
      "text/plain": [
       "True"
      ]
     },
     "execution_count": 11,
     "metadata": {},
     "output_type": "execute_result"
    }
   ],
   "source": [
    "str3='Vinoad'\n",
    "\n",
    "str1==str3"
   ]
  },
  {
   "cell_type": "code",
   "execution_count": 16,
   "metadata": {},
   "outputs": [
    {
     "name": "stdout",
     "output_type": "stream",
     "text": [
      "False\n",
      "True\n"
     ]
    }
   ],
   "source": [
    "## greater than operation\n",
    "\n",
    "var1=10\n",
    "var2=20\n",
    "\n",
    "print(var1>=var2)\n",
    "print(var2>=var1)"
   ]
  },
  {
   "cell_type": "markdown",
   "metadata": {},
   "source": [
    "## Logical Operators"
   ]
  },
  {
   "cell_type": "code",
   "execution_count": 19,
   "metadata": {},
   "outputs": [
    {
     "name": "stdout",
     "output_type": "stream",
     "text": [
      "True\n",
      "False\n",
      "True\n"
     ]
    }
   ],
   "source": [
    "# OR, AND, NOT\n",
    "\n",
    "x=True\n",
    "y=False\n",
    "\n",
    "result1 = (x or y)\n",
    "\n",
    "result2 = (x and y)\n",
    "\n",
    "result3 = (x or not y)\n",
    "\n",
    "print(result1)\n",
    "\n",
    "print(result2)\n",
    "\n",
    "print(result3)\n",
    "\n"
   ]
  },
  {
   "cell_type": "code",
   "execution_count": null,
   "metadata": {},
   "outputs": [],
   "source": []
  }
 ],
 "metadata": {
  "kernelspec": {
   "display_name": "Python 3",
   "language": "python",
   "name": "python3"
  },
  "language_info": {
   "codemirror_mode": {
    "name": "ipython",
    "version": 3
   },
   "file_extension": ".py",
   "mimetype": "text/x-python",
   "name": "python",
   "nbconvert_exporter": "python",
   "pygments_lexer": "ipython3",
   "version": "3.1.-1"
  }
 },
 "nbformat": 4,
 "nbformat_minor": 2
}
