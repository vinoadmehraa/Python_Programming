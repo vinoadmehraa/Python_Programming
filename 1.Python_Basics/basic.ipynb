{
 "cells": [
  {
   "cell_type": "markdown",
   "metadata": {},
   "source": [
    "## There are two types of errors in python programming.\n",
    "## 1. Syntax Error - when the piece of your code does not follow the python programming structure.\n",
    "## 2. Sementic Errors - when the piece of your code does not follow the way it should be used."
   ]
  },
  {
   "cell_type": "markdown",
   "metadata": {},
   "source": [
    "## if (5>1)            ## Syntax error, : is missing after IF statement.\n",
    "#    print(\"Five is greater than One\")\n",
    "\n",
    "## def mysum(a,b):\n",
    "##      print(a+b)\n",
    "## \n",
    "## def mysum(5)         ## Symentic error, The calling of mysum needed two variables.\n",
    "\n"
   ]
  },
  {
   "cell_type": "markdown",
   "metadata": {},
   "source": [
    "## There are two types of comments.\n",
    "## 1. Single line comment - In this, one line of code is commented using double hash.\n",
    "\n",
    "## 2. multiple line comment - In this, multiple line of code is commented using triple Quotes.\n",
    "''' \n",
    "Whatever is within this triple quotes,\n",
    "It is considered as comment.\n",
    "This is called multiple line comments.\n",
    "'''"
   ]
  },
  {
   "cell_type": "code",
   "execution_count": 8,
   "metadata": {},
   "outputs": [
    {
     "name": "stdout",
     "output_type": "stream",
     "text": [
      "Vinoad\n",
      "Mehraa\n"
     ]
    }
   ],
   "source": [
    "## Case Sensitivity - python is case sensitive.\n",
    "\n",
    "name='Vinoad'\n",
    "Name='Mehraa'\n",
    "\n",
    "print(name)\n",
    "\n",
    "print(Name)"
   ]
  },
  {
   "cell_type": "code",
   "execution_count": 9,
   "metadata": {},
   "outputs": [
    {
     "name": "stdout",
     "output_type": "stream",
     "text": [
      "Age is greater than 30\n",
      "Age is printed here\n"
     ]
    }
   ],
   "source": [
    "## python use indentation to define the block of python code strucutre.\n",
    "age=36\n",
    "if age>30:\n",
    "    print(\"Age is greater than 30\")\n",
    "\n",
    "print(\"Age is printed here\")\n",
    "\n"
   ]
  },
  {
   "cell_type": "code",
   "execution_count": 10,
   "metadata": {},
   "outputs": [
    {
     "name": "stdout",
     "output_type": "stream",
     "text": [
      "100\n"
     ]
    }
   ],
   "source": [
    "## backslash is used to continue coding in the next line or mutliple lines.\n",
    "\n",
    "total_sum=10+20+\\\n",
    "30+40\n",
    "\n",
    "print(total_sum)"
   ]
  },
  {
   "cell_type": "code",
   "execution_count": 12,
   "metadata": {},
   "outputs": [
    {
     "name": "stdout",
     "output_type": "stream",
     "text": [
      "30\n"
     ]
    }
   ],
   "source": [
    "## Multiple statements in the single line.\n",
    "\n",
    "x=5;y=10;z=x+y\n",
    "\n",
    "print(x+y+z)"
   ]
  },
  {
   "cell_type": "code",
   "execution_count": 2,
   "metadata": {},
   "outputs": [
    {
     "name": "stdout",
     "output_type": "stream",
     "text": [
      "<class 'int'>\n",
      "<class 'str'>\n",
      "<class 'float'>\n",
      "<class 'bool'>\n"
     ]
    }
   ],
   "source": [
    "## Variable Types.\n",
    "\n",
    "a=10\n",
    "\n",
    "b='Vinoad'\n",
    "\n",
    "c=5.12\n",
    "\n",
    "d=True\n",
    "\n",
    "print(type(a))\n",
    "\n",
    "print(type(b))\n",
    "\n",
    "print(type(c))\n",
    "\n",
    "print(type(d))"
   ]
  },
  {
   "cell_type": "code",
   "execution_count": 19,
   "metadata": {},
   "outputs": [
    {
     "name": "stdout",
     "output_type": "stream",
     "text": [
      "<class 'str'>\n"
     ]
    }
   ],
   "source": [
    "a='Mehraa'\n",
    "\n",
    "print(type(a))"
   ]
  },
  {
   "cell_type": "code",
   "execution_count": null,
   "metadata": {},
   "outputs": [],
   "source": []
  },
  {
   "cell_type": "code",
   "execution_count": null,
   "metadata": {},
   "outputs": [],
   "source": []
  },
  {
   "cell_type": "code",
   "execution_count": null,
   "metadata": {},
   "outputs": [],
   "source": []
  },
  {
   "cell_type": "code",
   "execution_count": null,
   "metadata": {},
   "outputs": [],
   "source": []
  },
  {
   "cell_type": "code",
   "execution_count": null,
   "metadata": {},
   "outputs": [],
   "source": []
  },
  {
   "cell_type": "code",
   "execution_count": null,
   "metadata": {},
   "outputs": [],
   "source": []
  },
  {
   "cell_type": "code",
   "execution_count": null,
   "metadata": {},
   "outputs": [],
   "source": []
  },
  {
   "cell_type": "markdown",
   "metadata": {},
   "source": []
  }
 ],
 "metadata": {
  "kernelspec": {
   "display_name": "Python 3",
   "language": "python",
   "name": "python3"
  },
  "language_info": {
   "codemirror_mode": {
    "name": "ipython",
    "version": 3
   },
   "file_extension": ".py",
   "mimetype": "text/x-python",
   "name": "python",
   "nbconvert_exporter": "python",
   "pygments_lexer": "ipython3",
   "version": "3.12.0"
  }
 },
 "nbformat": 4,
 "nbformat_minor": 2
}
