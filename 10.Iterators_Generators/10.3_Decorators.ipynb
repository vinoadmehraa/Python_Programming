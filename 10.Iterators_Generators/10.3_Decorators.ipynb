{
 "cells": [
  {
   "cell_type": "code",
   "execution_count": null,
   "metadata": {},
   "outputs": [],
   "source": [
    "## function copy (when a function is assgined to new variable)\n",
    "\n",
    "## Closure\n",
    "\n",
    "## Decorators"
   ]
  },
  {
   "cell_type": "code",
   "execution_count": 10,
   "metadata": {},
   "outputs": [],
   "source": [
    "## define a funciton.\n",
    "\n",
    "def my_function():\n",
    "    return \"This is my original first function.\""
   ]
  },
  {
   "cell_type": "code",
   "execution_count": 11,
   "metadata": {},
   "outputs": [
    {
     "name": "stdout",
     "output_type": "stream",
     "text": [
      "<function my_function at 0x104e00720>\n"
     ]
    }
   ],
   "source": [
    "## checking the defined function.\n",
    "\n",
    "print(my_function)"
   ]
  },
  {
   "cell_type": "code",
   "execution_count": 12,
   "metadata": {},
   "outputs": [
    {
     "name": "stdout",
     "output_type": "stream",
     "text": [
      "This is my original first function.\n"
     ]
    }
   ],
   "source": [
    "# printing the return value of function.\n",
    "print(my_function())"
   ]
  },
  {
   "cell_type": "code",
   "execution_count": 13,
   "metadata": {},
   "outputs": [],
   "source": [
    "## assign a variable to a function.\n",
    "\n",
    "var1 = my_function"
   ]
  },
  {
   "cell_type": "code",
   "execution_count": 14,
   "metadata": {},
   "outputs": [
    {
     "name": "stdout",
     "output_type": "stream",
     "text": [
      "<function my_function at 0x104e00720>\n"
     ]
    }
   ],
   "source": [
    "print(var1)"
   ]
  },
  {
   "cell_type": "code",
   "execution_count": 15,
   "metadata": {},
   "outputs": [
    {
     "name": "stdout",
     "output_type": "stream",
     "text": [
      "This is my original first function.\n"
     ]
    }
   ],
   "source": [
    "print(var1())"
   ]
  },
  {
   "cell_type": "code",
   "execution_count": 16,
   "metadata": {},
   "outputs": [],
   "source": [
    "## deleting the original function.\n",
    "\n",
    "del my_function"
   ]
  },
  {
   "cell_type": "code",
   "execution_count": 17,
   "metadata": {},
   "outputs": [
    {
     "ename": "NameError",
     "evalue": "name 'my_function' is not defined",
     "output_type": "error",
     "traceback": [
      "\u001b[0;31m---------------------------------------------------------------------------\u001b[0m",
      "\u001b[0;31mNameError\u001b[0m                                 Traceback (most recent call last)",
      "Cell \u001b[0;32mIn[17], line 3\u001b[0m\n\u001b[1;32m      1\u001b[0m \u001b[38;5;66;03m## checking the original function.\u001b[39;00m\n\u001b[0;32m----> 3\u001b[0m \u001b[38;5;28mprint\u001b[39m(\u001b[43mmy_function\u001b[49m())\n",
      "\u001b[0;31mNameError\u001b[0m: name 'my_function' is not defined"
     ]
    }
   ],
   "source": [
    "## checking the original function.\n",
    "\n",
    "print(my_function())"
   ]
  },
  {
   "cell_type": "code",
   "execution_count": 18,
   "metadata": {},
   "outputs": [
    {
     "name": "stdout",
     "output_type": "stream",
     "text": [
      "This is my original first function.\n"
     ]
    }
   ],
   "source": [
    "## Now, cheking the assgined variable function.\n",
    "\n",
    "print(var1())"
   ]
  },
  {
   "cell_type": "code",
   "execution_count": 19,
   "metadata": {},
   "outputs": [],
   "source": [
    "## closures function.\n",
    "\n",
    "def main_welcome():\n",
    "    msg=\"Welcome\"\n",
    "    \n",
    "    def sub_welcome():\n",
    "        print(\"This is inside the sub welcome method\")\n",
    "\n",
    "        print(\"This is second print statement inside sub welcome methods\")\n",
    "    \n",
    "    return sub_welcome()\n"
   ]
  },
  {
   "cell_type": "code",
   "execution_count": 20,
   "metadata": {},
   "outputs": [
    {
     "name": "stdout",
     "output_type": "stream",
     "text": [
      "This is inside the sub welcome method\n",
      "This is second print statement inside sub welcome methods\n"
     ]
    }
   ],
   "source": [
    "main_welcome()"
   ]
  },
  {
   "cell_type": "code",
   "execution_count": 21,
   "metadata": {},
   "outputs": [],
   "source": [
    "## we can use the msg variable created in the main function in the sub welcome function.\n",
    "\n",
    "def main_welcome():\n",
    "    msg=\"Welcome\"\n",
    "    \n",
    "    def sub_welcome():\n",
    "        print(\"This is inside the sub welcome method\")\n",
    "\n",
    "        print(msg)\n",
    "\n",
    "        print(\"This is second print statement inside sub welcome methods\")\n",
    "    \n",
    "    return sub_welcome()"
   ]
  },
  {
   "cell_type": "code",
   "execution_count": 23,
   "metadata": {},
   "outputs": [
    {
     "name": "stdout",
     "output_type": "stream",
     "text": [
      "This is inside the sub welcome method\n",
      "Welcome\n",
      "This is second print statement inside sub welcome methods\n"
     ]
    }
   ],
   "source": [
    "main_welcome()"
   ]
  },
  {
   "cell_type": "code",
   "execution_count": 28,
   "metadata": {},
   "outputs": [],
   "source": [
    "## we can also pass a function in the parameter.\n",
    "\n",
    "def main_welcome(func):\n",
    "    msg=\"Welcome message\"\n",
    "    \n",
    "    def sub_welcome():\n",
    "        print(\"This is inside the sub welcome method\")\n",
    "        \n",
    "        func(msg)\n",
    "\n",
    "        print(\"This is second print statement inside sub welcome methods\")\n",
    "    \n",
    "    return sub_welcome()"
   ]
  },
  {
   "cell_type": "code",
   "execution_count": 29,
   "metadata": {},
   "outputs": [
    {
     "name": "stdout",
     "output_type": "stream",
     "text": [
      "This is inside the sub welcome method\n",
      "Welcome message\n",
      "This is second print statement inside sub welcome methods\n"
     ]
    }
   ],
   "source": [
    "main_welcome(print)"
   ]
  },
  {
   "cell_type": "code",
   "execution_count": 30,
   "metadata": {},
   "outputs": [],
   "source": [
    "## function and value pass in the funcion calling.\n",
    "\n",
    "def main_welcome(func, list):\n",
    "    msg=\"Welcome\"\n",
    "    \n",
    "    def sub_welcome():\n",
    "        print(\"This is inside the sub welcome method\")\n",
    "\n",
    "        print(func(list))\n",
    "\n",
    "        print(\"This is second print statement inside sub welcome methods\")\n",
    "    \n",
    "    return sub_welcome()"
   ]
  },
  {
   "cell_type": "code",
   "execution_count": 31,
   "metadata": {},
   "outputs": [
    {
     "name": "stdout",
     "output_type": "stream",
     "text": [
      "This is inside the sub welcome method\n",
      "6\n",
      "This is second print statement inside sub welcome methods\n"
     ]
    }
   ],
   "source": [
    "main_welcome(len, [1,2,3,4,5,6])"
   ]
  },
  {
   "cell_type": "code",
   "execution_count": 42,
   "metadata": {},
   "outputs": [],
   "source": [
    "## Decorators.\n",
    "\n",
    "def main_welcome(func):\n",
    "    msg=\"Welcome message\"\n",
    "    \n",
    "    def sub_welcome():\n",
    "        print(\"This is inside the sub welcome method\")\n",
    "        \n",
    "        func()\n",
    "\n",
    "        print(\"This is second print statement inside sub welcome methods\")\n",
    "    \n",
    "    return sub_welcome()"
   ]
  },
  {
   "cell_type": "code",
   "execution_count": 43,
   "metadata": {},
   "outputs": [],
   "source": [
    "def course_intro():\n",
    "    print(\"This is inside the introduction\")"
   ]
  },
  {
   "cell_type": "code",
   "execution_count": 44,
   "metadata": {},
   "outputs": [
    {
     "name": "stdout",
     "output_type": "stream",
     "text": [
      "This is inside the sub welcome method\n",
      "This is inside the introduction\n",
      "This is second print statement inside sub welcome methods\n"
     ]
    }
   ],
   "source": [
    "## we can call the main function with the course introduction function.\n",
    "\n",
    "main_welcome(course_intro)"
   ]
  },
  {
   "cell_type": "code",
   "execution_count": 45,
   "metadata": {},
   "outputs": [
    {
     "name": "stdout",
     "output_type": "stream",
     "text": [
      "This is inside the sub welcome method\n",
      "This is introduction section.\n",
      "This is second print statement inside sub welcome methods\n"
     ]
    }
   ],
   "source": [
    "## without calling the main_welcome function, can we display the information of main_welcome.\n",
    "\n",
    "## decorator can do this.\n",
    "\n",
    "## course intro function is given as a paramter to the main_welcom function without calling the main_welcome function.\n",
    "\n",
    "@main_welcome\n",
    "def course_intro():\n",
    "    print(\"This is introduction section.\")"
   ]
  },
  {
   "cell_type": "code",
   "execution_count": 48,
   "metadata": {},
   "outputs": [],
   "source": [
    "def my_decorator(func):\n",
    "    def wrapper():\n",
    "        print(\"Something is happening before the function is called.\")\n",
    "        func()\n",
    "        print(\"Something is happening after the function is called.\")\n",
    "    return wrapper\n"
   ]
  },
  {
   "cell_type": "code",
   "execution_count": 49,
   "metadata": {},
   "outputs": [],
   "source": [
    "@my_decorator\n",
    "def say_hello():\n",
    "    print(\"Hello!\")"
   ]
  },
  {
   "cell_type": "code",
   "execution_count": 50,
   "metadata": {},
   "outputs": [
    {
     "name": "stdout",
     "output_type": "stream",
     "text": [
      "Something is happening before the function is called.\n",
      "Hello!\n",
      "Something is happening after the function is called.\n"
     ]
    }
   ],
   "source": [
    "# Call the function\n",
    "say_hello()"
   ]
  },
  {
   "cell_type": "code",
   "execution_count": null,
   "metadata": {},
   "outputs": [],
   "source": []
  },
  {
   "cell_type": "code",
   "execution_count": null,
   "metadata": {},
   "outputs": [],
   "source": []
  },
  {
   "cell_type": "code",
   "execution_count": null,
   "metadata": {},
   "outputs": [],
   "source": []
  },
  {
   "cell_type": "code",
   "execution_count": null,
   "metadata": {},
   "outputs": [],
   "source": []
  }
 ],
 "metadata": {
  "kernelspec": {
   "display_name": "Python 3",
   "language": "python",
   "name": "python3"
  },
  "language_info": {
   "codemirror_mode": {
    "name": "ipython",
    "version": 3
   },
   "file_extension": ".py",
   "mimetype": "text/x-python",
   "name": "python",
   "nbconvert_exporter": "python",
   "pygments_lexer": "ipython3",
   "version": "3.12.0"
  }
 },
 "nbformat": 4,
 "nbformat_minor": 2
}
